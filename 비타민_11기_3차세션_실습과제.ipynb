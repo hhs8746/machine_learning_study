{
  "cells": [
    {
      "cell_type": "markdown",
      "metadata": {
        "id": "9jgtueNLJ8Lz"
      },
      "source": [
        "# BITAmin 11기 3차 정규세션 실습과제 (2023.03.08)"
      ]
    },
    {
      "cell_type": "markdown",
      "metadata": {
        "id": "dKHIk2f2oRXa"
      },
      "source": [
        "## **주제 : t-검정, 분산 분석, 상관 분석**"
      ]
    },
    {
      "cell_type": "markdown",
      "metadata": {
        "id": "BolXOvM_LRTj"
      },
      "source": [
        "실습 진행 전, 다음 코드를 실행해주세요."
      ]
    },
    {
      "cell_type": "code",
      "execution_count": null,
      "metadata": {
        "id": "ouLtC6ytMi7X"
      },
      "outputs": [],
      "source": [
        "# 연산 처리를 위한 패키지\n",
        "import numpy as np\n",
        "import pandas as pd\n",
        "import scipy as sp\n",
        "\n",
        "# 통계 패키지\n",
        "from scipy import stats\n",
        "import statsmodels.api as sm\n",
        "from statsmodels.formula.api import ols\n",
        "from statsmodels.stats.anova import anova_lm\n",
        "\n",
        "# 시각화를 위한 패키지\n",
        "from matplotlib import pyplot as plt\n",
        "import seaborn as sns\n",
        "\n",
        "# 그래프를 실제로 그리기 위한 설정\n",
        "%matplotlib inline\n",
        "\n",
        "# 경고 메시지 무시\n",
        "import warnings\n",
        "warnings.filterwarnings('ignore')"
      ]
    },
    {
      "cell_type": "markdown",
      "metadata": {
        "id": "C4YckVoVFxET"
      },
      "source": [
        "# 실습 1"
      ]
    },
    {
      "cell_type": "markdown",
      "metadata": {
        "id": "k3ntEv2EFznB"
      },
      "source": [
        "## Q1.\n",
        "농구를 좋아하는 A는 어느 날, 문득 NBA 선수들의 평균 키가 궁금해졌다.\n",
        "\n",
        "오래 시청한 감으로 봤을 때 2m 정도 되어보였으나, 자신의 생각이 맞는지 확인하기 위해 임의로 15명의 선수 키를 찾아 정리해보았다.\n",
        "\n",
        "아래 데이터를 통해 NBA 선수들의 평균 키가 2m라고 할 수 있을지 알아보자."
      ]
    },
    {
      "cell_type": "markdown",
      "metadata": {
        "id": "liC2sZfcHLre"
      },
      "source": [
        "아래 코드를 실행하시오."
      ]
    },
    {
      "cell_type": "code",
      "execution_count": null,
      "metadata": {
        "id": "5vVz7bSQHJHv"
      },
      "outputs": [],
      "source": [
        "# 알려진 평균\n",
        "mu = 200\n",
        "# 수집된 표본\n",
        "height_data = [210,215,190,200,185,190,200,\n",
        "       205,205,192,193,191,201,201,204]\n",
        "height_data_arr = np.array(height_data)"
      ]
    },
    {
      "cell_type": "markdown",
      "metadata": {
        "id": "9Q5A2WmQGJtu"
      },
      "source": [
        "**Q1-1. 귀무가설, 대립가설 설정**\n",
        "\n",
        "위 문제의 귀무가설과 대립가설을 작성하시오."
      ]
    },
    {
      "cell_type": "code",
      "execution_count": null,
      "metadata": {
        "id": "fxvEcv7qGUmR"
      },
      "outputs": [],
      "source": [
        "# 귀무가설 : 선수들의 키 평균은 200cm이다.\n",
        "# 대립가설 : 선수들의 키 평균은 200cm가 아니다."
      ]
    },
    {
      "cell_type": "markdown",
      "metadata": {
        "id": "YXiUlq3yGYJW"
      },
      "source": [
        "**Q1-2. 정규성 검정**\n",
        "\n",
        "정규성 검정을 수행하고, p-value값을 해석하시오.\n",
        "\n",
        "그리고, 이 데이터에서 왜 정규성 검정을 수행해야 하는지 서술하시오."
      ]
    },
    {
      "cell_type": "code",
      "execution_count": null,
      "metadata": {
        "id": "4iDt_ikTGgpW"
      },
      "outputs": [],
      "source": [
        "# shapiro 함수 활용\n",
        "stats.shapiro(height_data_arr)"
      ]
    },
    {
      "cell_type": "code",
      "source": [
        "\n",
        "#p-value 해석 : p-value가 유의수준 0.05보다 크므로 귀무가설을 기각하지 못하고 정규성을 만족한다고 판단한다.\n",
        "#정규성을 기본 가정으로 하는 t검정에대해 표본의 개수가 30개 이하인 소표본은 중심극한정리로 정규성을 만족함을 보일 수 없기 때문이다."
      ],
      "metadata": {
        "id": "t-SBap-qrIyv"
      },
      "execution_count": null,
      "outputs": []
    },
    {
      "cell_type": "markdown",
      "metadata": {
        "id": "dLKVwtslHAE-"
      },
      "source": [
        "**Q1-3. One-Sample T-test 수행**\n",
        "\n",
        "height_data_arr 데이터프레임을 기반으로 One-sample T-test를 수행하고, 결과값을 출력하시오."
      ]
    },
    {
      "cell_type": "code",
      "execution_count": null,
      "metadata": {
        "id": "Tr1X6mOCHfPg",
        "colab": {
          "base_uri": "https://localhost:8080/"
        },
        "outputId": "0f5525e7-7f94-45e5-f7a0-2a334814ae8e"
      },
      "outputs": [
        {
          "output_type": "stream",
          "name": "stdout",
          "text": [
            "t-value : -0.5525678051800346 \n",
            "p-value : 0.5892734756296947\n"
          ]
        }
      ],
      "source": [
        "# one-sample t-test\n",
        "one_sample = stats.ttest_1samp(height_data_arr, 200)\n",
        "print(f\"t-value : {one_sample[0]} \\np-value : {one_sample[1]}\")"
      ]
    },
    {
      "cell_type": "code",
      "source": [
        "#결과값 해석 : p-value가 유의수준인 0.05보다 크므로 귀무가설을 기각할 수 없어 선수들의 키의 평균이 200cm라 판단한다."
      ],
      "metadata": {
        "id": "eqAwO-vIr1Y7"
      },
      "execution_count": null,
      "outputs": []
    },
    {
      "cell_type": "markdown",
      "metadata": {
        "id": "-0M3qqZ2IImA"
      },
      "source": [
        "### Q2.\n",
        "아래 데이터는 대구지역 초등학교 1학년과 서울지역 초등학교 1학년의 키를 정리한 자료이다.\n",
        "\n",
        "아래 데이터를 통해 대구지역 초등학교 1학년과 서울지역 초등학교 1학년의 키에 유의미한 차이가 있는지 알아보자."
      ]
    },
    {
      "cell_type": "markdown",
      "metadata": {
        "id": "33C_-KemIkv0"
      },
      "source": [
        "**Q2-1. 데이터 불러오기**"
      ]
    },
    {
      "cell_type": "markdown",
      "metadata": {
        "id": "XUHOZg33IpjB"
      },
      "source": [
        "'height.csv'를 불러오고, 이를 height 변수에 저장하시오."
      ]
    },
    {
      "cell_type": "code",
      "execution_count": null,
      "metadata": {
        "id": "FV0Z6fXvItlv",
        "colab": {
          "base_uri": "https://localhost:8080/",
          "height": 644
        },
        "outputId": "d23c43c6-f3d5-4e57-fbe4-d233b34c452b"
      },
      "outputs": [
        {
          "output_type": "error",
          "ename": "FileNotFoundError",
          "evalue": "ignored",
          "traceback": [
            "\u001b[0;31m---------------------------------------------------------------------------\u001b[0m",
            "\u001b[0;31mFileNotFoundError\u001b[0m                         Traceback (most recent call last)",
            "\u001b[0;32m<ipython-input-7-d827b744072b>\u001b[0m in \u001b[0;36m<module>\u001b[0;34m\u001b[0m\n\u001b[1;32m      1\u001b[0m \u001b[0;31m# 데이터 불러오기\u001b[0m\u001b[0;34m\u001b[0m\u001b[0;34m\u001b[0m\u001b[0;34m\u001b[0m\u001b[0m\n\u001b[0;32m----> 2\u001b[0;31m \u001b[0mheight\u001b[0m \u001b[0;34m=\u001b[0m \u001b[0mpd\u001b[0m\u001b[0;34m.\u001b[0m\u001b[0mread_csv\u001b[0m\u001b[0;34m(\u001b[0m\u001b[0;34m\"/Users/parksoyeon/Desktop/비타민/멤버세션_1학기/1주차_230308/실습과제/data/height.csv\"\u001b[0m\u001b[0;34m)\u001b[0m\u001b[0;34m\u001b[0m\u001b[0;34m\u001b[0m\u001b[0m\n\u001b[0m",
            "\u001b[0;32m/usr/local/lib/python3.8/dist-packages/pandas/util/_decorators.py\u001b[0m in \u001b[0;36mwrapper\u001b[0;34m(*args, **kwargs)\u001b[0m\n\u001b[1;32m    309\u001b[0m                     \u001b[0mstacklevel\u001b[0m\u001b[0;34m=\u001b[0m\u001b[0mstacklevel\u001b[0m\u001b[0;34m,\u001b[0m\u001b[0;34m\u001b[0m\u001b[0;34m\u001b[0m\u001b[0m\n\u001b[1;32m    310\u001b[0m                 )\n\u001b[0;32m--> 311\u001b[0;31m             \u001b[0;32mreturn\u001b[0m \u001b[0mfunc\u001b[0m\u001b[0;34m(\u001b[0m\u001b[0;34m*\u001b[0m\u001b[0margs\u001b[0m\u001b[0;34m,\u001b[0m \u001b[0;34m**\u001b[0m\u001b[0mkwargs\u001b[0m\u001b[0;34m)\u001b[0m\u001b[0;34m\u001b[0m\u001b[0;34m\u001b[0m\u001b[0m\n\u001b[0m\u001b[1;32m    312\u001b[0m \u001b[0;34m\u001b[0m\u001b[0m\n\u001b[1;32m    313\u001b[0m         \u001b[0;32mreturn\u001b[0m \u001b[0mwrapper\u001b[0m\u001b[0;34m\u001b[0m\u001b[0;34m\u001b[0m\u001b[0m\n",
            "\u001b[0;32m/usr/local/lib/python3.8/dist-packages/pandas/io/parsers/readers.py\u001b[0m in \u001b[0;36mread_csv\u001b[0;34m(filepath_or_buffer, sep, delimiter, header, names, index_col, usecols, squeeze, prefix, mangle_dupe_cols, dtype, engine, converters, true_values, false_values, skipinitialspace, skiprows, skipfooter, nrows, na_values, keep_default_na, na_filter, verbose, skip_blank_lines, parse_dates, infer_datetime_format, keep_date_col, date_parser, dayfirst, cache_dates, iterator, chunksize, compression, thousands, decimal, lineterminator, quotechar, quoting, doublequote, escapechar, comment, encoding, encoding_errors, dialect, error_bad_lines, warn_bad_lines, on_bad_lines, delim_whitespace, low_memory, memory_map, float_precision, storage_options)\u001b[0m\n\u001b[1;32m    584\u001b[0m     \u001b[0mkwds\u001b[0m\u001b[0;34m.\u001b[0m\u001b[0mupdate\u001b[0m\u001b[0;34m(\u001b[0m\u001b[0mkwds_defaults\u001b[0m\u001b[0;34m)\u001b[0m\u001b[0;34m\u001b[0m\u001b[0;34m\u001b[0m\u001b[0m\n\u001b[1;32m    585\u001b[0m \u001b[0;34m\u001b[0m\u001b[0m\n\u001b[0;32m--> 586\u001b[0;31m     \u001b[0;32mreturn\u001b[0m \u001b[0m_read\u001b[0m\u001b[0;34m(\u001b[0m\u001b[0mfilepath_or_buffer\u001b[0m\u001b[0;34m,\u001b[0m \u001b[0mkwds\u001b[0m\u001b[0;34m)\u001b[0m\u001b[0;34m\u001b[0m\u001b[0;34m\u001b[0m\u001b[0m\n\u001b[0m\u001b[1;32m    587\u001b[0m \u001b[0;34m\u001b[0m\u001b[0m\n\u001b[1;32m    588\u001b[0m \u001b[0;34m\u001b[0m\u001b[0m\n",
            "\u001b[0;32m/usr/local/lib/python3.8/dist-packages/pandas/io/parsers/readers.py\u001b[0m in \u001b[0;36m_read\u001b[0;34m(filepath_or_buffer, kwds)\u001b[0m\n\u001b[1;32m    480\u001b[0m \u001b[0;34m\u001b[0m\u001b[0m\n\u001b[1;32m    481\u001b[0m     \u001b[0;31m# Create the parser.\u001b[0m\u001b[0;34m\u001b[0m\u001b[0;34m\u001b[0m\u001b[0;34m\u001b[0m\u001b[0m\n\u001b[0;32m--> 482\u001b[0;31m     \u001b[0mparser\u001b[0m \u001b[0;34m=\u001b[0m \u001b[0mTextFileReader\u001b[0m\u001b[0;34m(\u001b[0m\u001b[0mfilepath_or_buffer\u001b[0m\u001b[0;34m,\u001b[0m \u001b[0;34m**\u001b[0m\u001b[0mkwds\u001b[0m\u001b[0;34m)\u001b[0m\u001b[0;34m\u001b[0m\u001b[0;34m\u001b[0m\u001b[0m\n\u001b[0m\u001b[1;32m    483\u001b[0m \u001b[0;34m\u001b[0m\u001b[0m\n\u001b[1;32m    484\u001b[0m     \u001b[0;32mif\u001b[0m \u001b[0mchunksize\u001b[0m \u001b[0;32mor\u001b[0m \u001b[0miterator\u001b[0m\u001b[0;34m:\u001b[0m\u001b[0;34m\u001b[0m\u001b[0;34m\u001b[0m\u001b[0m\n",
            "\u001b[0;32m/usr/local/lib/python3.8/dist-packages/pandas/io/parsers/readers.py\u001b[0m in \u001b[0;36m__init__\u001b[0;34m(self, f, engine, **kwds)\u001b[0m\n\u001b[1;32m    809\u001b[0m             \u001b[0mself\u001b[0m\u001b[0;34m.\u001b[0m\u001b[0moptions\u001b[0m\u001b[0;34m[\u001b[0m\u001b[0;34m\"has_index_names\"\u001b[0m\u001b[0;34m]\u001b[0m \u001b[0;34m=\u001b[0m \u001b[0mkwds\u001b[0m\u001b[0;34m[\u001b[0m\u001b[0;34m\"has_index_names\"\u001b[0m\u001b[0;34m]\u001b[0m\u001b[0;34m\u001b[0m\u001b[0;34m\u001b[0m\u001b[0m\n\u001b[1;32m    810\u001b[0m \u001b[0;34m\u001b[0m\u001b[0m\n\u001b[0;32m--> 811\u001b[0;31m         \u001b[0mself\u001b[0m\u001b[0;34m.\u001b[0m\u001b[0m_engine\u001b[0m \u001b[0;34m=\u001b[0m \u001b[0mself\u001b[0m\u001b[0;34m.\u001b[0m\u001b[0m_make_engine\u001b[0m\u001b[0;34m(\u001b[0m\u001b[0mself\u001b[0m\u001b[0;34m.\u001b[0m\u001b[0mengine\u001b[0m\u001b[0;34m)\u001b[0m\u001b[0;34m\u001b[0m\u001b[0;34m\u001b[0m\u001b[0m\n\u001b[0m\u001b[1;32m    812\u001b[0m \u001b[0;34m\u001b[0m\u001b[0m\n\u001b[1;32m    813\u001b[0m     \u001b[0;32mdef\u001b[0m \u001b[0mclose\u001b[0m\u001b[0;34m(\u001b[0m\u001b[0mself\u001b[0m\u001b[0;34m)\u001b[0m\u001b[0;34m:\u001b[0m\u001b[0;34m\u001b[0m\u001b[0;34m\u001b[0m\u001b[0m\n",
            "\u001b[0;32m/usr/local/lib/python3.8/dist-packages/pandas/io/parsers/readers.py\u001b[0m in \u001b[0;36m_make_engine\u001b[0;34m(self, engine)\u001b[0m\n\u001b[1;32m   1038\u001b[0m             )\n\u001b[1;32m   1039\u001b[0m         \u001b[0;31m# error: Too many arguments for \"ParserBase\"\u001b[0m\u001b[0;34m\u001b[0m\u001b[0;34m\u001b[0m\u001b[0;34m\u001b[0m\u001b[0m\n\u001b[0;32m-> 1040\u001b[0;31m         \u001b[0;32mreturn\u001b[0m \u001b[0mmapping\u001b[0m\u001b[0;34m[\u001b[0m\u001b[0mengine\u001b[0m\u001b[0;34m]\u001b[0m\u001b[0;34m(\u001b[0m\u001b[0mself\u001b[0m\u001b[0;34m.\u001b[0m\u001b[0mf\u001b[0m\u001b[0;34m,\u001b[0m \u001b[0;34m**\u001b[0m\u001b[0mself\u001b[0m\u001b[0;34m.\u001b[0m\u001b[0moptions\u001b[0m\u001b[0;34m)\u001b[0m  \u001b[0;31m# type: ignore[call-arg]\u001b[0m\u001b[0;34m\u001b[0m\u001b[0;34m\u001b[0m\u001b[0m\n\u001b[0m\u001b[1;32m   1041\u001b[0m \u001b[0;34m\u001b[0m\u001b[0m\n\u001b[1;32m   1042\u001b[0m     \u001b[0;32mdef\u001b[0m \u001b[0m_failover_to_python\u001b[0m\u001b[0;34m(\u001b[0m\u001b[0mself\u001b[0m\u001b[0;34m)\u001b[0m\u001b[0;34m:\u001b[0m\u001b[0;34m\u001b[0m\u001b[0;34m\u001b[0m\u001b[0m\n",
            "\u001b[0;32m/usr/local/lib/python3.8/dist-packages/pandas/io/parsers/c_parser_wrapper.py\u001b[0m in \u001b[0;36m__init__\u001b[0;34m(self, src, **kwds)\u001b[0m\n\u001b[1;32m     49\u001b[0m \u001b[0;34m\u001b[0m\u001b[0m\n\u001b[1;32m     50\u001b[0m         \u001b[0;31m# open handles\u001b[0m\u001b[0;34m\u001b[0m\u001b[0;34m\u001b[0m\u001b[0;34m\u001b[0m\u001b[0m\n\u001b[0;32m---> 51\u001b[0;31m         \u001b[0mself\u001b[0m\u001b[0;34m.\u001b[0m\u001b[0m_open_handles\u001b[0m\u001b[0;34m(\u001b[0m\u001b[0msrc\u001b[0m\u001b[0;34m,\u001b[0m \u001b[0mkwds\u001b[0m\u001b[0;34m)\u001b[0m\u001b[0;34m\u001b[0m\u001b[0;34m\u001b[0m\u001b[0m\n\u001b[0m\u001b[1;32m     52\u001b[0m         \u001b[0;32massert\u001b[0m \u001b[0mself\u001b[0m\u001b[0;34m.\u001b[0m\u001b[0mhandles\u001b[0m \u001b[0;32mis\u001b[0m \u001b[0;32mnot\u001b[0m \u001b[0;32mNone\u001b[0m\u001b[0;34m\u001b[0m\u001b[0;34m\u001b[0m\u001b[0m\n\u001b[1;32m     53\u001b[0m \u001b[0;34m\u001b[0m\u001b[0m\n",
            "\u001b[0;32m/usr/local/lib/python3.8/dist-packages/pandas/io/parsers/base_parser.py\u001b[0m in \u001b[0;36m_open_handles\u001b[0;34m(self, src, kwds)\u001b[0m\n\u001b[1;32m    220\u001b[0m         \u001b[0mLet\u001b[0m \u001b[0mthe\u001b[0m \u001b[0mreaders\u001b[0m \u001b[0mopen\u001b[0m \u001b[0mIOHandles\u001b[0m \u001b[0mafter\u001b[0m \u001b[0mthey\u001b[0m \u001b[0mare\u001b[0m \u001b[0mdone\u001b[0m \u001b[0;32mwith\u001b[0m \u001b[0mtheir\u001b[0m \u001b[0mpotential\u001b[0m \u001b[0mraises\u001b[0m\u001b[0;34m.\u001b[0m\u001b[0;34m\u001b[0m\u001b[0;34m\u001b[0m\u001b[0m\n\u001b[1;32m    221\u001b[0m         \"\"\"\n\u001b[0;32m--> 222\u001b[0;31m         self.handles = get_handle(\n\u001b[0m\u001b[1;32m    223\u001b[0m             \u001b[0msrc\u001b[0m\u001b[0;34m,\u001b[0m\u001b[0;34m\u001b[0m\u001b[0;34m\u001b[0m\u001b[0m\n\u001b[1;32m    224\u001b[0m             \u001b[0;34m\"r\"\u001b[0m\u001b[0;34m,\u001b[0m\u001b[0;34m\u001b[0m\u001b[0;34m\u001b[0m\u001b[0m\n",
            "\u001b[0;32m/usr/local/lib/python3.8/dist-packages/pandas/io/common.py\u001b[0m in \u001b[0;36mget_handle\u001b[0;34m(path_or_buf, mode, encoding, compression, memory_map, is_text, errors, storage_options)\u001b[0m\n\u001b[1;32m    700\u001b[0m         \u001b[0;32mif\u001b[0m \u001b[0mioargs\u001b[0m\u001b[0;34m.\u001b[0m\u001b[0mencoding\u001b[0m \u001b[0;32mand\u001b[0m \u001b[0;34m\"b\"\u001b[0m \u001b[0;32mnot\u001b[0m \u001b[0;32min\u001b[0m \u001b[0mioargs\u001b[0m\u001b[0;34m.\u001b[0m\u001b[0mmode\u001b[0m\u001b[0;34m:\u001b[0m\u001b[0;34m\u001b[0m\u001b[0;34m\u001b[0m\u001b[0m\n\u001b[1;32m    701\u001b[0m             \u001b[0;31m# Encoding\u001b[0m\u001b[0;34m\u001b[0m\u001b[0;34m\u001b[0m\u001b[0;34m\u001b[0m\u001b[0m\n\u001b[0;32m--> 702\u001b[0;31m             handle = open(\n\u001b[0m\u001b[1;32m    703\u001b[0m                 \u001b[0mhandle\u001b[0m\u001b[0;34m,\u001b[0m\u001b[0;34m\u001b[0m\u001b[0;34m\u001b[0m\u001b[0m\n\u001b[1;32m    704\u001b[0m                 \u001b[0mioargs\u001b[0m\u001b[0;34m.\u001b[0m\u001b[0mmode\u001b[0m\u001b[0;34m,\u001b[0m\u001b[0;34m\u001b[0m\u001b[0;34m\u001b[0m\u001b[0m\n",
            "\u001b[0;31mFileNotFoundError\u001b[0m: [Errno 2] No such file or directory: '/Users/parksoyeon/Desktop/비타민/멤버세션_1학기/1주차_230308/실습과제/data/height.csv'"
          ]
        }
      ],
      "source": [
        "# 데이터 불러오기\n",
        "height = pd.read_csv(\"/Users/parksoyeon/Desktop/비타민/멤버세션_1학기/1주차_230308/실습과제/data/height.csv\")"
      ]
    },
    {
      "cell_type": "markdown",
      "metadata": {
        "id": "DpwTwJd5JPRq"
      },
      "source": [
        "**Q2-2. 귀무가설, 대립가설 설정**\n",
        "\n",
        "위 문제의 귀무가설과 대립가설을 서술하시오."
      ]
    },
    {
      "cell_type": "code",
      "execution_count": null,
      "metadata": {
        "id": "-K94dtkCJcwO"
      },
      "outputs": [],
      "source": [
        "# 귀무가설 : 대구지역 초등학교 1학년과 서울지역 초등학교 1학년 키가 같다.\n",
        "# 대립가설 : 대구지역 초등학교 1학년과 서울지역 초등학교 1학년 키가 같지 않다."
      ]
    },
    {
      "cell_type": "markdown",
      "metadata": {
        "id": "E_x9lnnsIwLL"
      },
      "source": [
        "**Q2-3. 정규성 검정**\n",
        "\n",
        "대구지역과 서울지역의 정규성 검정을 수행하고, p-value값을 해석하시오."
      ]
    },
    {
      "cell_type": "code",
      "execution_count": null,
      "metadata": {
        "id": "wN-t6phbJfJs"
      },
      "outputs": [],
      "source": [
        "# shapiro 함수 활용하기\n",
        "stats.shapiro(height[height['group'] == 'Deagu']['height'])"
      ]
    },
    {
      "cell_type": "markdown",
      "metadata": {
        "id": "eutt17ZkJt4e"
      },
      "source": [
        "**Q2-4. 등분산 검정**\n",
        "\n",
        "레빈(Levene) 등분산 검정을 시행하고, p-value값을 해석하시오."
      ]
    },
    {
      "cell_type": "code",
      "execution_count": null,
      "metadata": {
        "id": "t23DZOyMK5CC",
        "outputId": "2b81448f-6c49-40c5-9be5-b7051f006243"
      },
      "outputs": [
        {
          "name": "stdout",
          "output_type": "stream",
          "text": [
            "LeveneResult(statistic=1.1481203790060568, pvalue=0.29070132556784084)\n"
          ]
        }
      ],
      "source": [
        "# levene 함수 설정\n",
        "Deagu_height = height[height['group'] == 'Deagu']['height']\n",
        "Seoul_height = height[height['group'] == 'Seoul']['height']\n",
        "levene = stats.levene(Deagu_height, Seoul_height)\n",
        "print(levene)"
      ]
    },
    {
      "cell_type": "markdown",
      "metadata": {
        "id": "3b3vCgWIKx7H"
      },
      "source": [
        "결과값 해석 :  p-value가 유의수준 0.05보다 크므로 등분산성 가정을 만족한다고 할 수 있다."
      ]
    },
    {
      "cell_type": "markdown",
      "metadata": {
        "id": "Oq3uXf3TK4cE"
      },
      "source": [
        "**Q2-5. 독립 표본 t-검정 수행**"
      ]
    },
    {
      "cell_type": "markdown",
      "metadata": {
        "id": "ysNzacAFLEK2"
      },
      "source": [
        "독립 표본 t-검정을 수행하고, 결과값을 해석하시오."
      ]
    },
    {
      "cell_type": "code",
      "execution_count": null,
      "metadata": {
        "id": "2LFZGBGELx1W",
        "outputId": "90ff7758-4b62-4078-ae0e-723143acd490"
      },
      "outputs": [
        {
          "name": "stdout",
          "output_type": "stream",
          "text": [
            "Ttest_indResult(statistic=3.9897988830860056, pvalue=0.0002910651027246129)\n"
          ]
        }
      ],
      "source": [
        "# ttest_ind 함수 활용\n",
        "ind_ttest_result = stats.ttest_ind(Deagu_height, Seoul_height, equal_var = True)\n",
        "print(ind_ttest_result)"
      ]
    },
    {
      "cell_type": "markdown",
      "metadata": {
        "id": "kM06F8nJMAfB"
      },
      "source": [
        "결과값 해석 : p-value가 유의수준 0.05보다 작게 나왔으므로 귀무가설을 기각한다.\n",
        "\n",
        "따라서 대구지역과 서울지역의 초등학생 1학년 평균 키가 다름을 알 수 있다."
      ]
    },
    {
      "cell_type": "markdown",
      "metadata": {
        "id": "IIzSoEGCMS6c"
      },
      "source": [
        "# 실습 2"
      ]
    },
    {
      "cell_type": "markdown",
      "metadata": {
        "id": "VcoMKaOfMUiG"
      },
      "source": [
        "### Q1.\n",
        "어느 회사에서 세 가지 다이어트 식단을 기획했다.\n",
        "\n",
        "그리고 해당 식단 들의 효능을 검증하기 위해 참가자들을 대상으로 체중 변화를 관찰했다.\n",
        "\n",
        "이때 동일한 프로그램을 수행하고 참가자들 사이에는 식단만 차이가 있었다.\n",
        "\n",
        "식단 사이 체중 변화에 차이가 없는지 알아보자."
      ]
    },
    {
      "cell_type": "markdown",
      "metadata": {
        "id": "BDP_t0tANBl4"
      },
      "source": [
        "**Q1-1. 데이터 불러오기**"
      ]
    },
    {
      "cell_type": "markdown",
      "metadata": {
        "id": "WKmhy2EJNEAg"
      },
      "source": [
        "'Diet.csv' 파일을 불러오고, diet 변수에 저장해 출력하시오."
      ]
    },
    {
      "cell_type": "code",
      "execution_count": null,
      "metadata": {
        "id": "dxjmHg6QNadA",
        "outputId": "8d9ef504-42b1-49e9-fddd-bae67f8d1500"
      },
      "outputs": [
        {
          "data": {
            "text/html": [
              "<div>\n",
              "<style scoped>\n",
              "    .dataframe tbody tr th:only-of-type {\n",
              "        vertical-align: middle;\n",
              "    }\n",
              "\n",
              "    .dataframe tbody tr th {\n",
              "        vertical-align: top;\n",
              "    }\n",
              "\n",
              "    .dataframe thead th {\n",
              "        text-align: right;\n",
              "    }\n",
              "</style>\n",
              "<table border=\"1\" class=\"dataframe\">\n",
              "  <thead>\n",
              "    <tr style=\"text-align: right;\">\n",
              "      <th></th>\n",
              "      <th>gender</th>\n",
              "      <th>Diet</th>\n",
              "      <th>weight</th>\n",
              "      <th>weight6weeks</th>\n",
              "    </tr>\n",
              "  </thead>\n",
              "  <tbody>\n",
              "    <tr>\n",
              "      <th>0</th>\n",
              "      <td>M</td>\n",
              "      <td>B</td>\n",
              "      <td>60</td>\n",
              "      <td>60.0</td>\n",
              "    </tr>\n",
              "    <tr>\n",
              "      <th>1</th>\n",
              "      <td>M</td>\n",
              "      <td>B</td>\n",
              "      <td>103</td>\n",
              "      <td>103.0</td>\n",
              "    </tr>\n",
              "    <tr>\n",
              "      <th>2</th>\n",
              "      <td>F</td>\n",
              "      <td>A</td>\n",
              "      <td>58</td>\n",
              "      <td>54.2</td>\n",
              "    </tr>\n",
              "    <tr>\n",
              "      <th>3</th>\n",
              "      <td>F</td>\n",
              "      <td>A</td>\n",
              "      <td>60</td>\n",
              "      <td>54.0</td>\n",
              "    </tr>\n",
              "    <tr>\n",
              "      <th>4</th>\n",
              "      <td>F</td>\n",
              "      <td>A</td>\n",
              "      <td>64</td>\n",
              "      <td>63.3</td>\n",
              "    </tr>\n",
              "  </tbody>\n",
              "</table>\n",
              "</div>"
            ],
            "text/plain": [
              "  gender Diet  weight  weight6weeks\n",
              "0      M    B      60          60.0\n",
              "1      M    B     103         103.0\n",
              "2      F    A      58          54.2\n",
              "3      F    A      60          54.0\n",
              "4      F    A      64          63.3"
            ]
          },
          "execution_count": 11,
          "metadata": {},
          "output_type": "execute_result"
        }
      ],
      "source": [
        "# 데이터 불러오기\n",
        "diet = pd.read_csv('/Users/parksoyeon/Desktop/비타민/멤버세션_1학기/1주차_230308/실습과제/data/Diet.csv')\n",
        "diet.head()"
      ]
    },
    {
      "cell_type": "markdown",
      "metadata": {
        "id": "wznRQQh2RDWQ"
      },
      "source": [
        "변수 별 설명\n",
        "\n",
        "1) gender : 성별\n",
        "\n",
        "2) Diet : 식단 종류\n",
        "\n",
        "3) weight : 초기 몸무게\n",
        "\n",
        "4) weight6weeks : 6주 후 몸무게"
      ]
    },
    {
      "cell_type": "markdown",
      "metadata": {
        "id": "cMRoP7nJNdT4"
      },
      "source": [
        "**Q1-2. 열 생성**"
      ]
    },
    {
      "cell_type": "markdown",
      "metadata": {
        "id": "Yra2OQFrOCmg"
      },
      "source": [
        "6주 후 체중 감소량을 'change' 열에 저장하시오."
      ]
    },
    {
      "cell_type": "code",
      "execution_count": null,
      "metadata": {
        "id": "fXzXCovROHIL"
      },
      "outputs": [],
      "source": [
        "# diet['change']\n",
        "\n",
        "diet['change'] = diet['weight'] - diet['weight6weeks']"
      ]
    },
    {
      "cell_type": "markdown",
      "metadata": {
        "id": "1iwFoMFfOTiF"
      },
      "source": [
        "**Q1-3. 시각화 1**"
      ]
    },
    {
      "cell_type": "markdown",
      "metadata": {
        "id": "pDoHvyviOeS_"
      },
      "source": [
        "x = 'Diet', y = 'change'로 둔 Boxplot과 Violinplot으로, 데이터를 시각화하시오."
      ]
    },
    {
      "cell_type": "code",
      "execution_count": null,
      "metadata": {
        "id": "WsV3rzPfOoMV",
        "outputId": "cdeb56b7-9de6-4773-ae5f-c18dbc34e4a4"
      },
      "outputs": [
        {
          "data": {
            "image/png": "[encoded data removed]",
            "text/plain": [
              "<Figure size 432x288 with 1 Axes>"
            ]
          },
          "metadata": {
            "needs_background": "light"
          },
          "output_type": "display_data"
        }
      ],
      "source": [
        "# boxplot\n",
        "sns.boxplot(x = \"Diet\", y = \"change\", data = diet)\n",
        "plt.show()"
      ]
    },
    {
      "cell_type": "code",
      "execution_count": null,
      "metadata": {
        "id": "_BrAx2z8Otez",
        "outputId": "b317a198-ddf0-4d39-a0f5-b6a833f0c9e7"
      },
      "outputs": [
        {
          "data": {
            "image/png": "[encoded data removed]",
            "text/plain": [
              "<Figure size 432x288 with 1 Axes>"
            ]
          },
          "metadata": {
            "needs_background": "light"
          },
          "output_type": "display_data"
        }
      ],
      "source": [
        "# violinplot\n",
        "sns.violinplot(x = \"Diet\", y = \"change\", data = diet)\n",
        "plt.show()"
      ]
    },
    {
      "cell_type": "markdown",
      "metadata": {
        "id": "ZwzIV5k9O6J1"
      },
      "source": [
        "**Q1-4. 시각화 2**"
      ]
    },
    {
      "cell_type": "markdown",
      "metadata": {
        "id": "eBXFlqRDO92R"
      },
      "source": [
        "유의미한 평균의 차이를 확인하고, type 간 히스토그램을 한 번에 시각화하세요."
      ]
    },
    {
      "cell_type": "code",
      "execution_count": null,
      "metadata": {
        "id": "nhAnR5agPBy1",
        "outputId": "a2dc7bfa-15ac-4bda-982d-23fb47087355"
      },
      "outputs": [
        {
          "data": {
            "image/png": "[encoded data removed]",
            "text/plain": [
              "<Figure size 432x288 with 1 Axes>"
            ]
          },
          "metadata": {
            "needs_background": "light"
          },
          "output_type": "display_data"
        }
      ],
      "source": [
        "# histogram\n",
        "diet_anova = diet.drop(['gender', 'weight', 'weight6weeks'], axis = 1)\n",
        "\n",
        "type1 = diet_anova[diet_anova['Diet'] == 'A']['change']\n",
        "type2 = diet_anova[diet_anova['Diet'] == 'B']['change']\n",
        "type3 = diet_anova[diet_anova['Diet'] == 'C']['change']\n",
        "\n",
        "ax1 = plt.subplot()\n",
        "ax1 = sns.distplot(type1, bins = 10, kde = False, fit = stats.gamma, label = \"A\", color = 'blue')\n",
        "ax1 = sns.distplot(type2, bins = 10, kde = False, fit = stats.gamma, label = \"B\", color = 'red')\n",
        "ax1 = sns.distplot(type3, bins = 10, kde = False, fit = stats.gamma, label = \"C\", color = 'yellow')\n",
        "ax1.set(xlabel = \"weight\", title = \"Weight Difference\")\n",
        "\n",
        "plt.legend()\n",
        "plt.show()\n"
      ]
    },
    {
      "cell_type": "markdown",
      "metadata": {
        "id": "2aKpdR2NPtSp"
      },
      "source": [
        "**Q1-5. One-way ANOVA 실행**"
      ]
    },
    {
      "cell_type": "markdown",
      "metadata": {
        "id": "tvo0y8AIP0St"
      },
      "source": [
        "세가지 다이어트 식단에 대한 One-way ANOVA를 진행하고, 결과값을 해석하시오."
      ]
    },
    {
      "cell_type": "code",
      "execution_count": null,
      "metadata": {
        "id": "mVkAyuqrP9S-",
        "outputId": "c240476d-929b-454e-c66d-aef1fcc912ab"
      },
      "outputs": [
        {
          "name": "stdout",
          "output_type": "stream",
          "text": [
            "F-value : 6.1974 p-value : 0.003\n",
            "귀무가설 기각\n",
            "F_onewayResult(statistic=6.197447453165349, pvalue=0.0032290142385893524)\n"
          ]
        }
      ],
      "source": [
        "# One-way ANOVA\n",
        "\n",
        "oneway_anova = stats.f_oneway(type1, type2, type3)\n",
        "oneway_anova\n",
        "\n",
        "print(f'F-value : {oneway_anova[0]:.4f} p-value : {oneway_anova[1]:.3f}')\n",
        "if oneway_anova[1] < 0.05:\n",
        "    print(\"귀무가설 기각\")\n",
        "\n",
        "print(oneway_anova)"
      ]
    },
    {
      "cell_type": "markdown",
      "metadata": {
        "id": "qT_IS7C1QAA5"
      },
      "source": [
        "결과값 해석 : p-value가 0.05보다 작기 때문에 귀무가설을 기각한다."
      ]
    },
    {
      "cell_type": "markdown",
      "metadata": {
        "id": "efSA9q24QFoI"
      },
      "source": [
        "# 실습 3"
      ]
    },
    {
      "cell_type": "markdown",
      "metadata": {
        "id": "7v6Mp2PeQgIu"
      },
      "source": [
        "다음 데이터에서 자동차의 무게와 연비가 상관관계가 있는지 파악해보자."
      ]
    },
    {
      "cell_type": "markdown",
      "metadata": {
        "id": "_y79GM1rQHuz"
      },
      "source": [
        "**Q1-1. 데이터 불러오기**\n",
        "\n",
        "seaborn데이터에서 'mpg'데이터를 로드해서 mpg변수에 저장하시오.\n",
        "\n",
        "hint : sns.load_dataset(\"data\")"
      ]
    },
    {
      "cell_type": "code",
      "execution_count": null,
      "metadata": {
        "id": "8giEGlTVQMMp",
        "outputId": "effe39e7-7faf-4f08-d4d3-958ba412bf09"
      },
      "outputs": [
        {
          "data": {
            "text/html": [
              "<div>\n",
              "<style scoped>\n",
              "    .dataframe tbody tr th:only-of-type {\n",
              "        vertical-align: middle;\n",
              "    }\n",
              "\n",
              "    .dataframe tbody tr th {\n",
              "        vertical-align: top;\n",
              "    }\n",
              "\n",
              "    .dataframe thead th {\n",
              "        text-align: right;\n",
              "    }\n",
              "</style>\n",
              "<table border=\"1\" class=\"dataframe\">\n",
              "  <thead>\n",
              "    <tr style=\"text-align: right;\">\n",
              "      <th></th>\n",
              "      <th>mpg</th>\n",
              "      <th>cylinders</th>\n",
              "      <th>displacement</th>\n",
              "      <th>horsepower</th>\n",
              "      <th>weight</th>\n",
              "      <th>acceleration</th>\n",
              "      <th>model_year</th>\n",
              "      <th>origin</th>\n",
              "      <th>name</th>\n",
              "    </tr>\n",
              "  </thead>\n",
              "  <tbody>\n",
              "    <tr>\n",
              "      <th>0</th>\n",
              "      <td>18.0</td>\n",
              "      <td>8</td>\n",
              "      <td>307.0</td>\n",
              "      <td>130.0</td>\n",
              "      <td>3504</td>\n",
              "      <td>12.0</td>\n",
              "      <td>70</td>\n",
              "      <td>usa</td>\n",
              "      <td>chevrolet chevelle malibu</td>\n",
              "    </tr>\n",
              "    <tr>\n",
              "      <th>1</th>\n",
              "      <td>15.0</td>\n",
              "      <td>8</td>\n",
              "      <td>350.0</td>\n",
              "      <td>165.0</td>\n",
              "      <td>3693</td>\n",
              "      <td>11.5</td>\n",
              "      <td>70</td>\n",
              "      <td>usa</td>\n",
              "      <td>buick skylark 320</td>\n",
              "    </tr>\n",
              "    <tr>\n",
              "      <th>2</th>\n",
              "      <td>18.0</td>\n",
              "      <td>8</td>\n",
              "      <td>318.0</td>\n",
              "      <td>150.0</td>\n",
              "      <td>3436</td>\n",
              "      <td>11.0</td>\n",
              "      <td>70</td>\n",
              "      <td>usa</td>\n",
              "      <td>plymouth satellite</td>\n",
              "    </tr>\n",
              "    <tr>\n",
              "      <th>3</th>\n",
              "      <td>16.0</td>\n",
              "      <td>8</td>\n",
              "      <td>304.0</td>\n",
              "      <td>150.0</td>\n",
              "      <td>3433</td>\n",
              "      <td>12.0</td>\n",
              "      <td>70</td>\n",
              "      <td>usa</td>\n",
              "      <td>amc rebel sst</td>\n",
              "    </tr>\n",
              "    <tr>\n",
              "      <th>4</th>\n",
              "      <td>17.0</td>\n",
              "      <td>8</td>\n",
              "      <td>302.0</td>\n",
              "      <td>140.0</td>\n",
              "      <td>3449</td>\n",
              "      <td>10.5</td>\n",
              "      <td>70</td>\n",
              "      <td>usa</td>\n",
              "      <td>ford torino</td>\n",
              "    </tr>\n",
              "    <tr>\n",
              "      <th>...</th>\n",
              "      <td>...</td>\n",
              "      <td>...</td>\n",
              "      <td>...</td>\n",
              "      <td>...</td>\n",
              "      <td>...</td>\n",
              "      <td>...</td>\n",
              "      <td>...</td>\n",
              "      <td>...</td>\n",
              "      <td>...</td>\n",
              "    </tr>\n",
              "    <tr>\n",
              "      <th>393</th>\n",
              "      <td>27.0</td>\n",
              "      <td>4</td>\n",
              "      <td>140.0</td>\n",
              "      <td>86.0</td>\n",
              "      <td>2790</td>\n",
              "      <td>15.6</td>\n",
              "      <td>82</td>\n",
              "      <td>usa</td>\n",
              "      <td>ford mustang gl</td>\n",
              "    </tr>\n",
              "    <tr>\n",
              "      <th>394</th>\n",
              "      <td>44.0</td>\n",
              "      <td>4</td>\n",
              "      <td>97.0</td>\n",
              "      <td>52.0</td>\n",
              "      <td>2130</td>\n",
              "      <td>24.6</td>\n",
              "      <td>82</td>\n",
              "      <td>europe</td>\n",
              "      <td>vw pickup</td>\n",
              "    </tr>\n",
              "    <tr>\n",
              "      <th>395</th>\n",
              "      <td>32.0</td>\n",
              "      <td>4</td>\n",
              "      <td>135.0</td>\n",
              "      <td>84.0</td>\n",
              "      <td>2295</td>\n",
              "      <td>11.6</td>\n",
              "      <td>82</td>\n",
              "      <td>usa</td>\n",
              "      <td>dodge rampage</td>\n",
              "    </tr>\n",
              "    <tr>\n",
              "      <th>396</th>\n",
              "      <td>28.0</td>\n",
              "      <td>4</td>\n",
              "      <td>120.0</td>\n",
              "      <td>79.0</td>\n",
              "      <td>2625</td>\n",
              "      <td>18.6</td>\n",
              "      <td>82</td>\n",
              "      <td>usa</td>\n",
              "      <td>ford ranger</td>\n",
              "    </tr>\n",
              "    <tr>\n",
              "      <th>397</th>\n",
              "      <td>31.0</td>\n",
              "      <td>4</td>\n",
              "      <td>119.0</td>\n",
              "      <td>82.0</td>\n",
              "      <td>2720</td>\n",
              "      <td>19.4</td>\n",
              "      <td>82</td>\n",
              "      <td>usa</td>\n",
              "      <td>chevy s-10</td>\n",
              "    </tr>\n",
              "  </tbody>\n",
              "</table>\n",
              "<p>398 rows × 9 columns</p>\n",
              "</div>"
            ],
            "text/plain": [
              "      mpg  cylinders  displacement  horsepower  weight  acceleration  \\\n",
              "0    18.0          8         307.0       130.0    3504          12.0   \n",
              "1    15.0          8         350.0       165.0    3693          11.5   \n",
              "2    18.0          8         318.0       150.0    3436          11.0   \n",
              "3    16.0          8         304.0       150.0    3433          12.0   \n",
              "4    17.0          8         302.0       140.0    3449          10.5   \n",
              "..    ...        ...           ...         ...     ...           ...   \n",
              "393  27.0          4         140.0        86.0    2790          15.6   \n",
              "394  44.0          4          97.0        52.0    2130          24.6   \n",
              "395  32.0          4         135.0        84.0    2295          11.6   \n",
              "396  28.0          4         120.0        79.0    2625          18.6   \n",
              "397  31.0          4         119.0        82.0    2720          19.4   \n",
              "\n",
              "     model_year  origin                       name  \n",
              "0            70     usa  chevrolet chevelle malibu  \n",
              "1            70     usa          buick skylark 320  \n",
              "2            70     usa         plymouth satellite  \n",
              "3            70     usa              amc rebel sst  \n",
              "4            70     usa                ford torino  \n",
              "..          ...     ...                        ...  \n",
              "393          82     usa            ford mustang gl  \n",
              "394          82  europe                  vw pickup  \n",
              "395          82     usa              dodge rampage  \n",
              "396          82     usa                ford ranger  \n",
              "397          82     usa                 chevy s-10  \n",
              "\n",
              "[398 rows x 9 columns]"
            ]
          },
          "execution_count": 17,
          "metadata": {},
          "output_type": "execute_result"
        }
      ],
      "source": [
        "# mpg\n",
        "mpg = sns.load_dataset(\"mpg\")\n",
        "mpg"
      ]
    },
    {
      "cell_type": "markdown",
      "metadata": {
        "id": "CWzg0OonQSUb"
      },
      "source": [
        "**Q1-2. 데이터셋에 대한 정보를 확인하시오.**\n"
      ]
    },
    {
      "cell_type": "code",
      "execution_count": null,
      "metadata": {
        "id": "-N1l-EeCQYct",
        "outputId": "bceadac7-d8dd-4efd-fa9a-7fff114d8a22"
      },
      "outputs": [
        {
          "name": "stdout",
          "output_type": "stream",
          "text": [
            "<class 'pandas.core.frame.DataFrame'>\n",
            "RangeIndex: 398 entries, 0 to 397\n",
            "Data columns (total 9 columns):\n",
            " #   Column        Non-Null Count  Dtype  \n",
            "---  ------        --------------  -----  \n",
            " 0   mpg           398 non-null    float64\n",
            " 1   cylinders     398 non-null    int64  \n",
            " 2   displacement  398 non-null    float64\n",
            " 3   horsepower    392 non-null    float64\n",
            " 4   weight        398 non-null    int64  \n",
            " 5   acceleration  398 non-null    float64\n",
            " 6   model_year    398 non-null    int64  \n",
            " 7   origin        398 non-null    object \n",
            " 8   name          398 non-null    object \n",
            "dtypes: float64(4), int64(3), object(2)\n",
            "memory usage: 28.1+ KB\n"
          ]
        }
      ],
      "source": [
        "# info()\n",
        "mpg.info()"
      ]
    },
    {
      "cell_type": "markdown",
      "metadata": {
        "id": "S0-RiFPrQZzz"
      },
      "source": [
        "변수 별 설명\n",
        "\n",
        "1) mpg: 연비\n",
        "\n",
        "2) cylinders: 실린더 개수\n",
        "\n",
        "3) displacement: 배기량\n",
        "\n",
        "4) horsepower: 마력\n",
        "\n",
        "5) weight: 무게\n",
        "\n",
        "6) acceleration: 엔진이 초당 얻을 수 있는 가속력\n",
        "\n",
        "7) model year: 출시 년도\n",
        "\n",
        "8) origin: 제조 장소(1: 미국 USA, 2: 유럽 EU, 3: 일본 JPN)\n",
        "\n",
        "9) car name: 자동차 이름"
      ]
    },
    {
      "cell_type": "markdown",
      "metadata": {
        "id": "1SGvTGy_Qoaj"
      },
      "source": [
        "**Q1-3. 산점도를 그려 두 변수의 관련성을 파악하고 해석하시오.**"
      ]
    },
    {
      "cell_type": "code",
      "execution_count": null,
      "metadata": {
        "id": "3rly4KuhQrDn",
        "outputId": "fd785440-914a-4005-9c09-3649f34249c0"
      },
      "outputs": [
        {
          "data": {
            "image/png": "[encoded data removed]",
            "text/plain": [
              "<Figure size 432x288 with 1 Axes>"
            ]
          },
          "metadata": {
            "needs_background": "light"
          },
          "output_type": "display_data"
        }
      ],
      "source": [
        "# scatter\n",
        "plt.scatter(mpg['weight'],mpg['mpg'])\n",
        "plt.xlabel('weight')\n",
        "plt.ylabel('mpg')\n",
        "plt.show()"
      ]
    },
    {
      "cell_type": "markdown",
      "metadata": {
        "id": "u_Y2rCB6QuGY"
      },
      "source": [
        "관련성 해석 : 무게가 높을수록 연비가 낮다는 음의 상관관계가 있다."
      ]
    },
    {
      "cell_type": "markdown",
      "metadata": {
        "id": "V7WFE1N_QwZB"
      },
      "source": [
        "**Q1-4. 두 변수 간의 관계를 파악할 때 공분산이 아닌, 상관계수를 이용해야하는 이유에 대해 서술하시오.**"
      ]
    },
    {
      "cell_type": "markdown",
      "metadata": {
        "id": "LImWFbXRQyU2"
      },
      "source": [
        "이유 : 무게와 연비는 단위가 다르기 때문에 상관계수를 이용해야 한다."
      ]
    },
    {
      "cell_type": "markdown",
      "metadata": {
        "id": "yCAvBu6BQ0Ln"
      },
      "source": [
        "**Q1-5. 두 변수 간의 상관계수를 파악하고 상관계수값이 유의미한지 서술하시오.**"
      ]
    },
    {
      "cell_type": "code",
      "execution_count": null,
      "metadata": {
        "id": "lsVglQ8DQ19g",
        "outputId": "5376df0a-95a7-48e1-e235-aad1be00ff45"
      },
      "outputs": [
        {
          "name": "stdout",
          "output_type": "stream",
          "text": [
            "상관계수 : -0.832, p-value : 0.000\n"
          ]
        }
      ],
      "source": [
        "# pearsonr 함수 활용\n",
        "corr = stats.pearsonr(mpg['weight'],mpg['mpg'])\n",
        "print('상관계수 : %.3f, p-value : %.3f' %corr)"
      ]
    },
    {
      "cell_type": "markdown",
      "metadata": {
        "id": "D7RagCw3Q7rS"
      },
      "source": [
        "결과값 해석 : p-value가 0.05이하이므로 유의하며 둘은 음의 상관관계를 가진다."
      ]
    },
    {
      "cell_type": "markdown",
      "metadata": {
        "id": "vyZG_f0nqe9q"
      },
      "source": [
        "# 실습 4"
      ]
    },
    {
      "cell_type": "markdown",
      "metadata": {
        "id": "J31iva1tqe9q"
      },
      "source": [
        "다음코드를 실행 후 시작해주세요."
      ]
    },
    {
      "cell_type": "code",
      "execution_count": null,
      "metadata": {
        "id": "JAz247lCqe9r"
      },
      "outputs": [],
      "source": [
        "a=np.arange(1,31)"
      ]
    },
    {
      "cell_type": "code",
      "execution_count": null,
      "metadata": {
        "id": "DljQr2-4qe9r",
        "outputId": "9a2167b1-fcdd-445d-a7d3-b2768f623523"
      },
      "outputs": [
        {
          "data": {
            "text/html": [
              "<div>\n",
              "<style scoped>\n",
              "    .dataframe tbody tr th:only-of-type {\n",
              "        vertical-align: middle;\n",
              "    }\n",
              "\n",
              "    .dataframe tbody tr th {\n",
              "        vertical-align: top;\n",
              "    }\n",
              "\n",
              "    .dataframe thead th {\n",
              "        text-align: right;\n",
              "    }\n",
              "</style>\n",
              "<table border=\"1\" class=\"dataframe\">\n",
              "  <thead>\n",
              "    <tr style=\"text-align: right;\">\n",
              "      <th></th>\n",
              "      <th>person</th>\n",
              "      <th>Old</th>\n",
              "      <th>New</th>\n",
              "    </tr>\n",
              "  </thead>\n",
              "  <tbody>\n",
              "    <tr>\n",
              "      <th>0</th>\n",
              "      <td>1</td>\n",
              "      <td>23</td>\n",
              "      <td>23</td>\n",
              "    </tr>\n",
              "    <tr>\n",
              "      <th>1</th>\n",
              "      <td>2</td>\n",
              "      <td>29</td>\n",
              "      <td>11</td>\n",
              "    </tr>\n",
              "    <tr>\n",
              "      <th>2</th>\n",
              "      <td>3</td>\n",
              "      <td>17</td>\n",
              "      <td>9</td>\n",
              "    </tr>\n",
              "    <tr>\n",
              "      <th>3</th>\n",
              "      <td>4</td>\n",
              "      <td>22</td>\n",
              "      <td>16</td>\n",
              "    </tr>\n",
              "    <tr>\n",
              "      <th>4</th>\n",
              "      <td>5</td>\n",
              "      <td>23</td>\n",
              "      <td>17</td>\n",
              "    </tr>\n",
              "    <tr>\n",
              "      <th>5</th>\n",
              "      <td>6</td>\n",
              "      <td>23</td>\n",
              "      <td>10</td>\n",
              "    </tr>\n",
              "    <tr>\n",
              "      <th>6</th>\n",
              "      <td>7</td>\n",
              "      <td>19</td>\n",
              "      <td>14</td>\n",
              "    </tr>\n",
              "    <tr>\n",
              "      <th>7</th>\n",
              "      <td>8</td>\n",
              "      <td>15</td>\n",
              "      <td>13</td>\n",
              "    </tr>\n",
              "    <tr>\n",
              "      <th>8</th>\n",
              "      <td>9</td>\n",
              "      <td>33</td>\n",
              "      <td>14</td>\n",
              "    </tr>\n",
              "    <tr>\n",
              "      <th>9</th>\n",
              "      <td>10</td>\n",
              "      <td>20</td>\n",
              "      <td>16</td>\n",
              "    </tr>\n",
              "    <tr>\n",
              "      <th>10</th>\n",
              "      <td>11</td>\n",
              "      <td>24</td>\n",
              "      <td>20</td>\n",
              "    </tr>\n",
              "    <tr>\n",
              "      <th>11</th>\n",
              "      <td>12</td>\n",
              "      <td>24</td>\n",
              "      <td>19</td>\n",
              "    </tr>\n",
              "    <tr>\n",
              "      <th>12</th>\n",
              "      <td>13</td>\n",
              "      <td>23</td>\n",
              "      <td>18</td>\n",
              "    </tr>\n",
              "    <tr>\n",
              "      <th>13</th>\n",
              "      <td>14</td>\n",
              "      <td>25</td>\n",
              "      <td>17</td>\n",
              "    </tr>\n",
              "    <tr>\n",
              "      <th>14</th>\n",
              "      <td>15</td>\n",
              "      <td>22</td>\n",
              "      <td>20</td>\n",
              "    </tr>\n",
              "    <tr>\n",
              "      <th>15</th>\n",
              "      <td>16</td>\n",
              "      <td>19</td>\n",
              "      <td>21</td>\n",
              "    </tr>\n",
              "    <tr>\n",
              "      <th>16</th>\n",
              "      <td>17</td>\n",
              "      <td>27</td>\n",
              "      <td>19</td>\n",
              "    </tr>\n",
              "    <tr>\n",
              "      <th>17</th>\n",
              "      <td>18</td>\n",
              "      <td>20</td>\n",
              "      <td>25</td>\n",
              "    </tr>\n",
              "    <tr>\n",
              "      <th>18</th>\n",
              "      <td>19</td>\n",
              "      <td>30</td>\n",
              "      <td>24</td>\n",
              "    </tr>\n",
              "    <tr>\n",
              "      <th>19</th>\n",
              "      <td>20</td>\n",
              "      <td>24</td>\n",
              "      <td>28</td>\n",
              "    </tr>\n",
              "    <tr>\n",
              "      <th>20</th>\n",
              "      <td>21</td>\n",
              "      <td>26</td>\n",
              "      <td>22</td>\n",
              "    </tr>\n",
              "    <tr>\n",
              "      <th>21</th>\n",
              "      <td>22</td>\n",
              "      <td>27</td>\n",
              "      <td>26</td>\n",
              "    </tr>\n",
              "    <tr>\n",
              "      <th>22</th>\n",
              "      <td>23</td>\n",
              "      <td>32</td>\n",
              "      <td>21</td>\n",
              "    </tr>\n",
              "    <tr>\n",
              "      <th>23</th>\n",
              "      <td>24</td>\n",
              "      <td>22</td>\n",
              "      <td>19</td>\n",
              "    </tr>\n",
              "    <tr>\n",
              "      <th>24</th>\n",
              "      <td>25</td>\n",
              "      <td>21</td>\n",
              "      <td>24</td>\n",
              "    </tr>\n",
              "    <tr>\n",
              "      <th>25</th>\n",
              "      <td>26</td>\n",
              "      <td>18</td>\n",
              "      <td>15</td>\n",
              "    </tr>\n",
              "    <tr>\n",
              "      <th>26</th>\n",
              "      <td>27</td>\n",
              "      <td>26</td>\n",
              "      <td>10</td>\n",
              "    </tr>\n",
              "    <tr>\n",
              "      <th>27</th>\n",
              "      <td>28</td>\n",
              "      <td>14</td>\n",
              "      <td>16</td>\n",
              "    </tr>\n",
              "    <tr>\n",
              "      <th>28</th>\n",
              "      <td>29</td>\n",
              "      <td>17</td>\n",
              "      <td>24</td>\n",
              "    </tr>\n",
              "    <tr>\n",
              "      <th>29</th>\n",
              "      <td>30</td>\n",
              "      <td>20</td>\n",
              "      <td>30</td>\n",
              "    </tr>\n",
              "  </tbody>\n",
              "</table>\n",
              "</div>"
            ],
            "text/plain": [
              "    person  Old  New\n",
              "0        1   23   23\n",
              "1        2   29   11\n",
              "2        3   17    9\n",
              "3        4   22   16\n",
              "4        5   23   17\n",
              "5        6   23   10\n",
              "6        7   19   14\n",
              "7        8   15   13\n",
              "8        9   33   14\n",
              "9       10   20   16\n",
              "10      11   24   20\n",
              "11      12   24   19\n",
              "12      13   23   18\n",
              "13      14   25   17\n",
              "14      15   22   20\n",
              "15      16   19   21\n",
              "16      17   27   19\n",
              "17      18   20   25\n",
              "18      19   30   24\n",
              "19      20   24   28\n",
              "20      21   26   22\n",
              "21      22   27   26\n",
              "22      23   32   21\n",
              "23      24   22   19\n",
              "24      25   21   24\n",
              "25      26   18   15\n",
              "26      27   26   10\n",
              "27      28   14   16\n",
              "28      29   17   24\n",
              "29      30   20   30"
            ]
          },
          "execution_count": 23,
          "metadata": {},
          "output_type": "execute_result"
        }
      ],
      "source": [
        "#신약(New)과 기존약(Old)을 통해 치료한 후 측정한 환자의 암세포 크기\n",
        "df_medicine = pd.DataFrame({'person':a,'Old':[23,29,17,22,23,23,19,15,33,20,24,24,23,25,22,19,27,20,30,24,26,27,32,22,21,18,26,14,17,20],'New':[23,11,9,16,17,10,14,13,14,16,20,19,18,17,20,21,19,25,24,28,22,26,21,19,24,15,10,16,24,30]})\n",
        "df_medicine"
      ]
    },
    {
      "cell_type": "markdown",
      "metadata": {
        "id": "aofTx5w2qe9r"
      },
      "source": [
        "**Q1. df_medicine의 요약 통계량을 나타내시오.**"
      ]
    },
    {
      "cell_type": "code",
      "execution_count": null,
      "metadata": {
        "id": "g-NS7fTWqe9r",
        "outputId": "66f0c07d-940f-4031-e6bb-f2e524a7abf8"
      },
      "outputs": [
        {
          "data": {
            "text/html": [
              "<div>\n",
              "<style scoped>\n",
              "    .dataframe tbody tr th:only-of-type {\n",
              "        vertical-align: middle;\n",
              "    }\n",
              "\n",
              "    .dataframe tbody tr th {\n",
              "        vertical-align: top;\n",
              "    }\n",
              "\n",
              "    .dataframe thead th {\n",
              "        text-align: right;\n",
              "    }\n",
              "</style>\n",
              "<table border=\"1\" class=\"dataframe\">\n",
              "  <thead>\n",
              "    <tr style=\"text-align: right;\">\n",
              "      <th></th>\n",
              "      <th>person</th>\n",
              "      <th>Old</th>\n",
              "      <th>New</th>\n",
              "    </tr>\n",
              "  </thead>\n",
              "  <tbody>\n",
              "    <tr>\n",
              "      <th>count</th>\n",
              "      <td>30.000000</td>\n",
              "      <td>30.000000</td>\n",
              "      <td>30.000000</td>\n",
              "    </tr>\n",
              "    <tr>\n",
              "      <th>mean</th>\n",
              "      <td>15.500000</td>\n",
              "      <td>22.833333</td>\n",
              "      <td>18.700000</td>\n",
              "    </tr>\n",
              "    <tr>\n",
              "      <th>std</th>\n",
              "      <td>8.803408</td>\n",
              "      <td>4.661532</td>\n",
              "      <td>5.440271</td>\n",
              "    </tr>\n",
              "    <tr>\n",
              "      <th>min</th>\n",
              "      <td>1.000000</td>\n",
              "      <td>14.000000</td>\n",
              "      <td>9.000000</td>\n",
              "    </tr>\n",
              "    <tr>\n",
              "      <th>25%</th>\n",
              "      <td>8.250000</td>\n",
              "      <td>20.000000</td>\n",
              "      <td>15.250000</td>\n",
              "    </tr>\n",
              "    <tr>\n",
              "      <th>50%</th>\n",
              "      <td>15.500000</td>\n",
              "      <td>23.000000</td>\n",
              "      <td>19.000000</td>\n",
              "    </tr>\n",
              "    <tr>\n",
              "      <th>75%</th>\n",
              "      <td>22.750000</td>\n",
              "      <td>25.750000</td>\n",
              "      <td>22.750000</td>\n",
              "    </tr>\n",
              "    <tr>\n",
              "      <th>max</th>\n",
              "      <td>30.000000</td>\n",
              "      <td>33.000000</td>\n",
              "      <td>30.000000</td>\n",
              "    </tr>\n",
              "  </tbody>\n",
              "</table>\n",
              "</div>"
            ],
            "text/plain": [
              "          person        Old        New\n",
              "count  30.000000  30.000000  30.000000\n",
              "mean   15.500000  22.833333  18.700000\n",
              "std     8.803408   4.661532   5.440271\n",
              "min     1.000000  14.000000   9.000000\n",
              "25%     8.250000  20.000000  15.250000\n",
              "50%    15.500000  23.000000  19.000000\n",
              "75%    22.750000  25.750000  22.750000\n",
              "max    30.000000  33.000000  30.000000"
            ]
          },
          "execution_count": 24,
          "metadata": {},
          "output_type": "execute_result"
        }
      ],
      "source": [
        "df_medicine.describe()"
      ]
    },
    {
      "cell_type": "markdown",
      "metadata": {
        "id": "_paDdv_cqe9s"
      },
      "source": [
        "**Q2. before에 기존약의 값을 array로 저장하고, after에 신약을 사용한 후의 값을 array로 저장하시오.**"
      ]
    },
    {
      "cell_type": "code",
      "execution_count": null,
      "metadata": {
        "id": "hfCq7mleqe9s"
      },
      "outputs": [],
      "source": [
        "before = np.array(df_medicine['Old'])\n",
        "after = np.array(df_medicine['New'])"
      ]
    },
    {
      "cell_type": "markdown",
      "metadata": {
        "id": "k5d-6bIfqe9s"
      },
      "source": [
        "**Q3. 대응표본 t검정의 귀무가설과 대립가설을 서술하시오.**"
      ]
    },
    {
      "cell_type": "code",
      "execution_count": null,
      "metadata": {
        "id": "jnLkx7v2qe9s"
      },
      "outputs": [],
      "source": [
        "# 귀무가설: 신약과 기존약의 치료효과는 동일하다(암세포 크기 감소 효과가 같다.)\n",
        "# 대립가설: 신약이 기존약보다 치료효과가 뛰어나다(신약의 암세포 크기 감소 효과가 기존약 보다 크다.)"
      ]
    },
    {
      "cell_type": "markdown",
      "metadata": {
        "id": "7fuSgaAqqe9t"
      },
      "source": [
        "**Q4. before과 after로 대응표본 t검정을 시행하시오. (t-value와 p-value를 각각 소수 5번째 자리까지 구하시오)**"
      ]
    },
    {
      "cell_type": "code",
      "execution_count": null,
      "metadata": {
        "id": "bpTcjA-qqe9t",
        "outputId": "7b072788-4d8e-48e5-f862-0c83421b7a47"
      },
      "outputs": [
        {
          "name": "stdout",
          "output_type": "stream",
          "text": [
            "Statistic(t-value):-3.28727 p-value:0.00265\n"
          ]
        }
      ],
      "source": [
        "ttest_result = sp.stats.ttest_rel(after,before)\n",
        "print('Statistic(t-value):%.5f p-value:%.5f'%ttest_result)"
      ]
    },
    {
      "cell_type": "markdown",
      "metadata": {
        "id": "wNasUDWRqe9t"
      },
      "source": [
        "**Q5. 위에서 진행한 대응표본 t검정의 결과를 해석하시오. (유의수준 0.05)**"
      ]
    },
    {
      "cell_type": "markdown",
      "metadata": {
        "id": "-ltDmkUGqe9t"
      },
      "source": [
        "답 : p-value가 0.05보다 작기 때문에 귀무가설을 기각하고 신약의 치료 효과가 크다는 결론을 내릴 수 있다.\n"
      ]
    },
    {
      "cell_type": "markdown",
      "metadata": {
        "id": "dQ6ZvOOyqe9u"
      },
      "source": [
        "**Q6. 신약이 기존약 보다 평균적으로 암세포 크기를 얼마나 감소시켰는지 구하시오.**"
      ]
    },
    {
      "cell_type": "code",
      "execution_count": null,
      "metadata": {
        "id": "90pjs9O2qe9u",
        "outputId": "e1a849d2-990e-4352-ed32-6c2d8489034c"
      },
      "outputs": [
        {
          "data": {
            "text/plain": [
              "-4.133333333333334"
            ]
          },
          "execution_count": 28,
          "metadata": {},
          "output_type": "execute_result"
        }
      ],
      "source": [
        "diff = after - before\n",
        "diff.mean()"
      ]
    },
    {
      "cell_type": "markdown",
      "metadata": {
        "id": "LBkiFxU-qe9u"
      },
      "source": [
        "**Q7. before과 after의 히스토그램을 겹쳐 그리시오.**"
      ]
    },
    {
      "cell_type": "code",
      "execution_count": null,
      "metadata": {
        "id": "cx5wttQ2qe9v",
        "outputId": "47dcbfcc-848c-418a-ebcd-d8fe65a158d8"
      },
      "outputs": [
        {
          "data": {
            "text/plain": [
              "Text(0.5, 1.0, 'after VS before')"
            ]
          },
          "execution_count": 29,
          "metadata": {},
          "output_type": "execute_result"
        },
        {
          "data": {
            "image/png": "[encoded data removed]",
            "text/plain": [
              "<Figure size 432x288 with 1 Axes>"
            ]
          },
          "metadata": {
            "needs_background": "light"
          },
          "output_type": "display_data"
        }
      ],
      "source": [
        "ax = plt.subplots()\n",
        "ax = sns.histplot(before,kde=False,label='before',color='blue')\n",
        "ax = sns.histplot(after,kde=False,label='after',color='red')\n",
        "plt.title('after VS before')"
      ]
    },
    {
      "cell_type": "markdown",
      "metadata": {
        "id": "dOgHYXH7qe90"
      },
      "source": [
        "# 실습 5"
      ]
    },
    {
      "cell_type": "markdown",
      "metadata": {
        "id": "WQtJHKkHqe90"
      },
      "source": [
        "아래 코드를 실행시킨 후, 시작해주세요."
      ]
    },
    {
      "cell_type": "code",
      "execution_count": null,
      "metadata": {
        "id": "cnxDMvkxqe90"
      },
      "outputs": [],
      "source": [
        "#비트코인 종가와 나스닥 데이터를 불러와 날짜와 종가 부분만 각각 bit와 nas에 저장.(각자 경로에 맞게 설정)\n",
        "bit = pd.read_csv('/Users/parksoyeon/Desktop/비타민/멤버세션_1학기/1주차_230308/실습과제/data/bit1.csv',encoding='cp949')\n",
        "nas=pd.read_csv('/Users/parksoyeon/Desktop/비타민/멤버세션_1학기/1주차_230308/실습과제/data/nas1.csv',encoding='cp949')"
      ]
    },
    {
      "cell_type": "code",
      "execution_count": null,
      "metadata": {
        "id": "aRXnbDxYqe91"
      },
      "outputs": [],
      "source": [
        "bit=bit.iloc[:,0:2]\n",
        "nas=nas.iloc[:,0:2]"
      ]
    },
    {
      "cell_type": "code",
      "execution_count": null,
      "metadata": {
        "id": "3KjX5Ukcqe91",
        "outputId": "74e18e84-fa1e-4f94-a246-9af1bbd587a5"
      },
      "outputs": [
        {
          "data": {
            "text/html": [
              "<div>\n",
              "<style scoped>\n",
              "    .dataframe tbody tr th:only-of-type {\n",
              "        vertical-align: middle;\n",
              "    }\n",
              "\n",
              "    .dataframe tbody tr th {\n",
              "        vertical-align: top;\n",
              "    }\n",
              "\n",
              "    .dataframe thead th {\n",
              "        text-align: right;\n",
              "    }\n",
              "</style>\n",
              "<table border=\"1\" class=\"dataframe\">\n",
              "  <thead>\n",
              "    <tr style=\"text-align: right;\">\n",
              "      <th></th>\n",
              "      <th>날짜</th>\n",
              "      <th>종가</th>\n",
              "    </tr>\n",
              "  </thead>\n",
              "  <tbody>\n",
              "    <tr>\n",
              "      <th>0</th>\n",
              "      <td>2023-02-26</td>\n",
              "      <td>23204.4</td>\n",
              "    </tr>\n",
              "    <tr>\n",
              "      <th>1</th>\n",
              "      <td>2023-02-25</td>\n",
              "      <td>23166.1</td>\n",
              "    </tr>\n",
              "    <tr>\n",
              "      <th>2</th>\n",
              "      <td>2023-02-24</td>\n",
              "      <td>23191.5</td>\n",
              "    </tr>\n",
              "    <tr>\n",
              "      <th>3</th>\n",
              "      <td>2023-02-23</td>\n",
              "      <td>23936.3</td>\n",
              "    </tr>\n",
              "    <tr>\n",
              "      <th>4</th>\n",
              "      <td>2023-02-22</td>\n",
              "      <td>24186.6</td>\n",
              "    </tr>\n",
              "    <tr>\n",
              "      <th>...</th>\n",
              "      <td>...</td>\n",
              "      <td>...</td>\n",
              "    </tr>\n",
              "    <tr>\n",
              "      <th>392</th>\n",
              "      <td>2022-01-30</td>\n",
              "      <td>37917.7</td>\n",
              "    </tr>\n",
              "    <tr>\n",
              "      <th>393</th>\n",
              "      <td>2022-01-29</td>\n",
              "      <td>38170.8</td>\n",
              "    </tr>\n",
              "    <tr>\n",
              "      <th>394</th>\n",
              "      <td>2022-01-28</td>\n",
              "      <td>37745.1</td>\n",
              "    </tr>\n",
              "    <tr>\n",
              "      <th>395</th>\n",
              "      <td>2022-01-27</td>\n",
              "      <td>37164.3</td>\n",
              "    </tr>\n",
              "    <tr>\n",
              "      <th>396</th>\n",
              "      <td>2022-01-26</td>\n",
              "      <td>36800.4</td>\n",
              "    </tr>\n",
              "  </tbody>\n",
              "</table>\n",
              "<p>397 rows × 2 columns</p>\n",
              "</div>"
            ],
            "text/plain": [
              "             날짜       종가\n",
              "0    2023-02-26  23204.4\n",
              "1    2023-02-25  23166.1\n",
              "2    2023-02-24  23191.5\n",
              "3    2023-02-23  23936.3\n",
              "4    2023-02-22  24186.6\n",
              "..          ...      ...\n",
              "392  2022-01-30  37917.7\n",
              "393  2022-01-29  38170.8\n",
              "394  2022-01-28  37745.1\n",
              "395  2022-01-27  37164.3\n",
              "396  2022-01-26  36800.4\n",
              "\n",
              "[397 rows x 2 columns]"
            ]
          },
          "execution_count": 32,
          "metadata": {},
          "output_type": "execute_result"
        }
      ],
      "source": [
        "bit"
      ]
    },
    {
      "cell_type": "code",
      "execution_count": null,
      "metadata": {
        "id": "HOuOdJRBqe91",
        "outputId": "8d403e0d-1240-42d3-a2ab-f1c911192d54"
      },
      "outputs": [
        {
          "data": {
            "text/html": [
              "<div>\n",
              "<style scoped>\n",
              "    .dataframe tbody tr th:only-of-type {\n",
              "        vertical-align: middle;\n",
              "    }\n",
              "\n",
              "    .dataframe tbody tr th {\n",
              "        vertical-align: top;\n",
              "    }\n",
              "\n",
              "    .dataframe thead th {\n",
              "        text-align: right;\n",
              "    }\n",
              "</style>\n",
              "<table border=\"1\" class=\"dataframe\">\n",
              "  <thead>\n",
              "    <tr style=\"text-align: right;\">\n",
              "      <th></th>\n",
              "      <th>날짜</th>\n",
              "      <th>종가</th>\n",
              "    </tr>\n",
              "  </thead>\n",
              "  <tbody>\n",
              "    <tr>\n",
              "      <th>0</th>\n",
              "      <td>2023-02-24</td>\n",
              "      <td>11394.94</td>\n",
              "    </tr>\n",
              "    <tr>\n",
              "      <th>1</th>\n",
              "      <td>2023-02-23</td>\n",
              "      <td>11590.40</td>\n",
              "    </tr>\n",
              "    <tr>\n",
              "      <th>2</th>\n",
              "      <td>2023-02-22</td>\n",
              "      <td>11507.07</td>\n",
              "    </tr>\n",
              "    <tr>\n",
              "      <th>3</th>\n",
              "      <td>2023-02-21</td>\n",
              "      <td>11492.30</td>\n",
              "    </tr>\n",
              "    <tr>\n",
              "      <th>4</th>\n",
              "      <td>2023-02-17</td>\n",
              "      <td>11787.27</td>\n",
              "    </tr>\n",
              "    <tr>\n",
              "      <th>...</th>\n",
              "      <td>...</td>\n",
              "      <td>...</td>\n",
              "    </tr>\n",
              "    <tr>\n",
              "      <th>267</th>\n",
              "      <td>2022-02-01</td>\n",
              "      <td>14346.00</td>\n",
              "    </tr>\n",
              "    <tr>\n",
              "      <th>268</th>\n",
              "      <td>2022-01-31</td>\n",
              "      <td>14239.88</td>\n",
              "    </tr>\n",
              "    <tr>\n",
              "      <th>269</th>\n",
              "      <td>2022-01-28</td>\n",
              "      <td>13770.57</td>\n",
              "    </tr>\n",
              "    <tr>\n",
              "      <th>270</th>\n",
              "      <td>2022-01-27</td>\n",
              "      <td>13352.78</td>\n",
              "    </tr>\n",
              "    <tr>\n",
              "      <th>271</th>\n",
              "      <td>2022-01-26</td>\n",
              "      <td>13542.12</td>\n",
              "    </tr>\n",
              "  </tbody>\n",
              "</table>\n",
              "<p>272 rows × 2 columns</p>\n",
              "</div>"
            ],
            "text/plain": [
              "             날짜        종가\n",
              "0    2023-02-24  11394.94\n",
              "1    2023-02-23  11590.40\n",
              "2    2023-02-22  11507.07\n",
              "3    2023-02-21  11492.30\n",
              "4    2023-02-17  11787.27\n",
              "..          ...       ...\n",
              "267  2022-02-01  14346.00\n",
              "268  2022-01-31  14239.88\n",
              "269  2022-01-28  13770.57\n",
              "270  2022-01-27  13352.78\n",
              "271  2022-01-26  13542.12\n",
              "\n",
              "[272 rows x 2 columns]"
            ]
          },
          "execution_count": 33,
          "metadata": {},
          "output_type": "execute_result"
        }
      ],
      "source": [
        "nas"
      ]
    },
    {
      "cell_type": "markdown",
      "metadata": {
        "id": "5099Ss05qe92"
      },
      "source": [
        "**Q1. 날짜를 기준으로 bit와 nas를 합치시오.**"
      ]
    },
    {
      "cell_type": "code",
      "execution_count": null,
      "metadata": {
        "id": "YWwUOI4vqe92",
        "outputId": "61eaed47-5330-4d53-a32a-91d966821253"
      },
      "outputs": [
        {
          "data": {
            "text/html": [
              "<div>\n",
              "<style scoped>\n",
              "    .dataframe tbody tr th:only-of-type {\n",
              "        vertical-align: middle;\n",
              "    }\n",
              "\n",
              "    .dataframe tbody tr th {\n",
              "        vertical-align: top;\n",
              "    }\n",
              "\n",
              "    .dataframe thead th {\n",
              "        text-align: right;\n",
              "    }\n",
              "</style>\n",
              "<table border=\"1\" class=\"dataframe\">\n",
              "  <thead>\n",
              "    <tr style=\"text-align: right;\">\n",
              "      <th></th>\n",
              "      <th>날짜</th>\n",
              "      <th>종가_x</th>\n",
              "      <th>종가_y</th>\n",
              "    </tr>\n",
              "  </thead>\n",
              "  <tbody>\n",
              "    <tr>\n",
              "      <th>0</th>\n",
              "      <td>2023-02-24</td>\n",
              "      <td>23191.5</td>\n",
              "      <td>11394.94</td>\n",
              "    </tr>\n",
              "    <tr>\n",
              "      <th>1</th>\n",
              "      <td>2023-02-23</td>\n",
              "      <td>23936.3</td>\n",
              "      <td>11590.40</td>\n",
              "    </tr>\n",
              "    <tr>\n",
              "      <th>2</th>\n",
              "      <td>2023-02-22</td>\n",
              "      <td>24186.6</td>\n",
              "      <td>11507.07</td>\n",
              "    </tr>\n",
              "    <tr>\n",
              "      <th>3</th>\n",
              "      <td>2023-02-21</td>\n",
              "      <td>24450.7</td>\n",
              "      <td>11492.30</td>\n",
              "    </tr>\n",
              "    <tr>\n",
              "      <th>4</th>\n",
              "      <td>2023-02-17</td>\n",
              "      <td>24573.5</td>\n",
              "      <td>11787.27</td>\n",
              "    </tr>\n",
              "    <tr>\n",
              "      <th>...</th>\n",
              "      <td>...</td>\n",
              "      <td>...</td>\n",
              "      <td>...</td>\n",
              "    </tr>\n",
              "    <tr>\n",
              "      <th>267</th>\n",
              "      <td>2022-02-01</td>\n",
              "      <td>38709.7</td>\n",
              "      <td>14346.00</td>\n",
              "    </tr>\n",
              "    <tr>\n",
              "      <th>268</th>\n",
              "      <td>2022-01-31</td>\n",
              "      <td>38498.6</td>\n",
              "      <td>14239.88</td>\n",
              "    </tr>\n",
              "    <tr>\n",
              "      <th>269</th>\n",
              "      <td>2022-01-28</td>\n",
              "      <td>37745.1</td>\n",
              "      <td>13770.57</td>\n",
              "    </tr>\n",
              "    <tr>\n",
              "      <th>270</th>\n",
              "      <td>2022-01-27</td>\n",
              "      <td>37164.3</td>\n",
              "      <td>13352.78</td>\n",
              "    </tr>\n",
              "    <tr>\n",
              "      <th>271</th>\n",
              "      <td>2022-01-26</td>\n",
              "      <td>36800.4</td>\n",
              "      <td>13542.12</td>\n",
              "    </tr>\n",
              "  </tbody>\n",
              "</table>\n",
              "<p>272 rows × 3 columns</p>\n",
              "</div>"
            ],
            "text/plain": [
              "             날짜     종가_x      종가_y\n",
              "0    2023-02-24  23191.5  11394.94\n",
              "1    2023-02-23  23936.3  11590.40\n",
              "2    2023-02-22  24186.6  11507.07\n",
              "3    2023-02-21  24450.7  11492.30\n",
              "4    2023-02-17  24573.5  11787.27\n",
              "..          ...      ...       ...\n",
              "267  2022-02-01  38709.7  14346.00\n",
              "268  2022-01-31  38498.6  14239.88\n",
              "269  2022-01-28  37745.1  13770.57\n",
              "270  2022-01-27  37164.3  13352.78\n",
              "271  2022-01-26  36800.4  13542.12\n",
              "\n",
              "[272 rows x 3 columns]"
            ]
          },
          "execution_count": 35,
          "metadata": {},
          "output_type": "execute_result"
        }
      ],
      "source": [
        "df = pd.merge(bit,nas,on='날짜')\n",
        "df"
      ]
    },
    {
      "cell_type": "markdown",
      "metadata": {
        "id": "Ldws_VwCqe92"
      },
      "source": [
        "**Q2. 산점도를 그려서 상관관계를 확인하시오.**"
      ]
    },
    {
      "cell_type": "code",
      "execution_count": null,
      "metadata": {
        "id": "KRztPOR6qe92",
        "outputId": "0648fe86-50f6-47a8-c63e-8d6334d1b3e7"
      },
      "outputs": [
        {
          "data": {
            "text/plain": [
              "<matplotlib.collections.PathCollection at 0x7fbb5e6ea9a0>"
            ]
          },
          "execution_count": 36,
          "metadata": {},
          "output_type": "execute_result"
        },
        {
          "data": {
            "image/png": "[encoded data removed]",
            "text/plain": [
              "<Figure size 432x288 with 1 Axes>"
            ]
          },
          "metadata": {
            "needs_background": "light"
          },
          "output_type": "display_data"
        }
      ],
      "source": [
        "plt.scatter(df['종가_x'],df['종가_y'])"
      ]
    },
    {
      "cell_type": "markdown",
      "metadata": {
        "id": "RYK8G4Amqe93"
      },
      "source": [
        "**Q3. df에서 날짜를 drop하고 비트코인종가와 나스닥 종가 열이름을 각각 bit와 nas로 변경하여 dfall에 저장하시오.**"
      ]
    },
    {
      "cell_type": "code",
      "execution_count": null,
      "metadata": {
        "id": "Kh2DL_I6qe93"
      },
      "outputs": [],
      "source": [
        "dfall = df.drop(columns=['날짜'])"
      ]
    },
    {
      "cell_type": "code",
      "execution_count": null,
      "metadata": {
        "id": "x8YsNdwiqe93"
      },
      "outputs": [],
      "source": [
        "dfall.columns = ['bit','nas']"
      ]
    },
    {
      "cell_type": "markdown",
      "metadata": {
        "id": "6eQSJl4mqe93"
      },
      "source": [
        "**Q5. 나스닥 종가와 비트코인 종가의 상관계수를 구하시오.**"
      ]
    },
    {
      "cell_type": "code",
      "execution_count": null,
      "metadata": {
        "id": "MUHXvMM5qe93",
        "outputId": "124816a7-e5e4-434f-b7d4-aa13e07288c8"
      },
      "outputs": [
        {
          "data": {
            "text/html": [
              "<div>\n",
              "<style scoped>\n",
              "    .dataframe tbody tr th:only-of-type {\n",
              "        vertical-align: middle;\n",
              "    }\n",
              "\n",
              "    .dataframe tbody tr th {\n",
              "        vertical-align: top;\n",
              "    }\n",
              "\n",
              "    .dataframe thead th {\n",
              "        text-align: right;\n",
              "    }\n",
              "</style>\n",
              "<table border=\"1\" class=\"dataframe\">\n",
              "  <thead>\n",
              "    <tr style=\"text-align: right;\">\n",
              "      <th></th>\n",
              "      <th>bit</th>\n",
              "      <th>nas</th>\n",
              "    </tr>\n",
              "  </thead>\n",
              "  <tbody>\n",
              "    <tr>\n",
              "      <th>bit</th>\n",
              "      <td>1.000000</td>\n",
              "      <td>0.886558</td>\n",
              "    </tr>\n",
              "    <tr>\n",
              "      <th>nas</th>\n",
              "      <td>0.886558</td>\n",
              "      <td>1.000000</td>\n",
              "    </tr>\n",
              "  </tbody>\n",
              "</table>\n",
              "</div>"
            ],
            "text/plain": [
              "          bit       nas\n",
              "bit  1.000000  0.886558\n",
              "nas  0.886558  1.000000"
            ]
          },
          "execution_count": 39,
          "metadata": {},
          "output_type": "execute_result"
        }
      ],
      "source": [
        "dfall.corr()"
      ]
    },
    {
      "cell_type": "markdown",
      "metadata": {
        "id": "azUj7e6Oqe94"
      },
      "source": [
        "**Q6. 상관계수를 heatmap으로 나타내시오.**"
      ]
    },
    {
      "cell_type": "code",
      "execution_count": null,
      "metadata": {
        "id": "LX9zMPlWqe94",
        "outputId": "86ea7374-1f31-406c-a885-fcdfe40f0313"
      },
      "outputs": [
        {
          "data": {
            "text/plain": [
              "<AxesSubplot:>"
            ]
          },
          "execution_count": 40,
          "metadata": {},
          "output_type": "execute_result"
        },
        {
          "data": {
            "image/png": "[encoded data removed]",
            "text/plain": [
              "<Figure size 432x288 with 2 Axes>"
            ]
          },
          "metadata": {
            "needs_background": "light"
          },
          "output_type": "display_data"
        }
      ],
      "source": [
        "sns.heatmap(dfall.corr(),\n",
        "           annot = True, #실제 값 나타내기\n",
        "           cmap='Reds',\n",
        "           vmin = -1, vmax=1 , #컬러 영역 -1 ~ +1\n",
        "          )"
      ]
    },
    {
      "cell_type": "markdown",
      "metadata": {
        "id": "PTUTt5dWqe94"
      },
      "source": [
        "**Q7. 상관계수 분석으로 알 수 있는 것을 서술하시오.**"
      ]
    },
    {
      "cell_type": "markdown",
      "metadata": {
        "id": "MkblSidsqe95"
      },
      "source": [
        "답 : 비트코인 종가와 나스닥 종가의 상관계수는 0.89로 강한 양의 상관관계를 가짐을 알 수 있다."
      ]
    },
    {
      "cell_type": "markdown",
      "metadata": {
        "id": "OoGMjso-QvQt"
      },
      "source": [
        "# 실습 6"
      ]
    },
    {
      "cell_type": "markdown",
      "metadata": {
        "id": "2oAv2oNVqe95"
      },
      "source": [
        "아래 코드를 실행 시킨 후 시작해주세요."
      ]
    },
    {
      "cell_type": "code",
      "execution_count": null,
      "metadata": {
        "id": "bfjAao80qe95",
        "outputId": "92faf0cd-9275-488b-d18a-74e274673241"
      },
      "outputs": [
        {
          "data": {
            "text/html": [
              "<div>\n",
              "<style scoped>\n",
              "    .dataframe tbody tr th:only-of-type {\n",
              "        vertical-align: middle;\n",
              "    }\n",
              "\n",
              "    .dataframe tbody tr th {\n",
              "        vertical-align: top;\n",
              "    }\n",
              "\n",
              "    .dataframe thead th {\n",
              "        text-align: right;\n",
              "    }\n",
              "</style>\n",
              "<table border=\"1\" class=\"dataframe\">\n",
              "  <thead>\n",
              "    <tr style=\"text-align: right;\">\n",
              "      <th></th>\n",
              "      <th>Sepal.Length</th>\n",
              "      <th>Sepal.Width</th>\n",
              "      <th>Petal.Length</th>\n",
              "      <th>Petal.Width</th>\n",
              "      <th>Species</th>\n",
              "    </tr>\n",
              "  </thead>\n",
              "  <tbody>\n",
              "    <tr>\n",
              "      <th>0</th>\n",
              "      <td>5.1</td>\n",
              "      <td>3.5</td>\n",
              "      <td>1.4</td>\n",
              "      <td>0.2</td>\n",
              "      <td>setosa</td>\n",
              "    </tr>\n",
              "    <tr>\n",
              "      <th>1</th>\n",
              "      <td>4.9</td>\n",
              "      <td>3.0</td>\n",
              "      <td>1.4</td>\n",
              "      <td>0.2</td>\n",
              "      <td>setosa</td>\n",
              "    </tr>\n",
              "    <tr>\n",
              "      <th>2</th>\n",
              "      <td>4.7</td>\n",
              "      <td>3.2</td>\n",
              "      <td>1.3</td>\n",
              "      <td>0.2</td>\n",
              "      <td>setosa</td>\n",
              "    </tr>\n",
              "    <tr>\n",
              "      <th>3</th>\n",
              "      <td>4.6</td>\n",
              "      <td>3.1</td>\n",
              "      <td>1.5</td>\n",
              "      <td>0.2</td>\n",
              "      <td>setosa</td>\n",
              "    </tr>\n",
              "    <tr>\n",
              "      <th>4</th>\n",
              "      <td>5.0</td>\n",
              "      <td>3.6</td>\n",
              "      <td>1.4</td>\n",
              "      <td>0.2</td>\n",
              "      <td>setosa</td>\n",
              "    </tr>\n",
              "    <tr>\n",
              "      <th>...</th>\n",
              "      <td>...</td>\n",
              "      <td>...</td>\n",
              "      <td>...</td>\n",
              "      <td>...</td>\n",
              "      <td>...</td>\n",
              "    </tr>\n",
              "    <tr>\n",
              "      <th>145</th>\n",
              "      <td>6.7</td>\n",
              "      <td>3.0</td>\n",
              "      <td>5.2</td>\n",
              "      <td>2.3</td>\n",
              "      <td>virginica</td>\n",
              "    </tr>\n",
              "    <tr>\n",
              "      <th>146</th>\n",
              "      <td>6.3</td>\n",
              "      <td>2.5</td>\n",
              "      <td>5.0</td>\n",
              "      <td>1.9</td>\n",
              "      <td>virginica</td>\n",
              "    </tr>\n",
              "    <tr>\n",
              "      <th>147</th>\n",
              "      <td>6.5</td>\n",
              "      <td>3.0</td>\n",
              "      <td>5.2</td>\n",
              "      <td>2.0</td>\n",
              "      <td>virginica</td>\n",
              "    </tr>\n",
              "    <tr>\n",
              "      <th>148</th>\n",
              "      <td>6.2</td>\n",
              "      <td>3.4</td>\n",
              "      <td>5.4</td>\n",
              "      <td>2.3</td>\n",
              "      <td>virginica</td>\n",
              "    </tr>\n",
              "    <tr>\n",
              "      <th>149</th>\n",
              "      <td>5.9</td>\n",
              "      <td>3.0</td>\n",
              "      <td>5.1</td>\n",
              "      <td>1.8</td>\n",
              "      <td>virginica</td>\n",
              "    </tr>\n",
              "  </tbody>\n",
              "</table>\n",
              "<p>150 rows × 5 columns</p>\n",
              "</div>"
            ],
            "text/plain": [
              "     Sepal.Length  Sepal.Width  Petal.Length  Petal.Width    Species\n",
              "0             5.1          3.5           1.4          0.2     setosa\n",
              "1             4.9          3.0           1.4          0.2     setosa\n",
              "2             4.7          3.2           1.3          0.2     setosa\n",
              "3             4.6          3.1           1.5          0.2     setosa\n",
              "4             5.0          3.6           1.4          0.2     setosa\n",
              "..            ...          ...           ...          ...        ...\n",
              "145           6.7          3.0           5.2          2.3  virginica\n",
              "146           6.3          2.5           5.0          1.9  virginica\n",
              "147           6.5          3.0           5.2          2.0  virginica\n",
              "148           6.2          3.4           5.4          2.3  virginica\n",
              "149           5.9          3.0           5.1          1.8  virginica\n",
              "\n",
              "[150 rows x 5 columns]"
            ]
          },
          "execution_count": 41,
          "metadata": {},
          "output_type": "execute_result"
        }
      ],
      "source": [
        "#'iris.txt'파일을 불러와 df에 저장\n",
        "df = pd.read_csv('/Users/parksoyeon/Desktop/비타민/멤버세션_1학기/1주차_230308/실습과제/data/iris.txt')\n",
        "df"
      ]
    },
    {
      "cell_type": "code",
      "execution_count": null,
      "metadata": {
        "id": "_8AcxKvzqe95",
        "outputId": "2eb21da7-e0c8-49be-ee94-1f7994248d1a"
      },
      "outputs": [
        {
          "data": {
            "text/html": [
              "<div>\n",
              "<style scoped>\n",
              "    .dataframe tbody tr th:only-of-type {\n",
              "        vertical-align: middle;\n",
              "    }\n",
              "\n",
              "    .dataframe tbody tr th {\n",
              "        vertical-align: top;\n",
              "    }\n",
              "\n",
              "    .dataframe thead th {\n",
              "        text-align: right;\n",
              "    }\n",
              "</style>\n",
              "<table border=\"1\" class=\"dataframe\">\n",
              "  <thead>\n",
              "    <tr style=\"text-align: right;\">\n",
              "      <th></th>\n",
              "      <th>SepalLength</th>\n",
              "      <th>SepalWidth</th>\n",
              "      <th>PetalLength</th>\n",
              "      <th>PetalWidth</th>\n",
              "      <th>Species</th>\n",
              "    </tr>\n",
              "  </thead>\n",
              "  <tbody>\n",
              "    <tr>\n",
              "      <th>0</th>\n",
              "      <td>5.1</td>\n",
              "      <td>3.5</td>\n",
              "      <td>1.4</td>\n",
              "      <td>0.2</td>\n",
              "      <td>setosa</td>\n",
              "    </tr>\n",
              "    <tr>\n",
              "      <th>1</th>\n",
              "      <td>4.9</td>\n",
              "      <td>3.0</td>\n",
              "      <td>1.4</td>\n",
              "      <td>0.2</td>\n",
              "      <td>setosa</td>\n",
              "    </tr>\n",
              "    <tr>\n",
              "      <th>2</th>\n",
              "      <td>4.7</td>\n",
              "      <td>3.2</td>\n",
              "      <td>1.3</td>\n",
              "      <td>0.2</td>\n",
              "      <td>setosa</td>\n",
              "    </tr>\n",
              "    <tr>\n",
              "      <th>3</th>\n",
              "      <td>4.6</td>\n",
              "      <td>3.1</td>\n",
              "      <td>1.5</td>\n",
              "      <td>0.2</td>\n",
              "      <td>setosa</td>\n",
              "    </tr>\n",
              "    <tr>\n",
              "      <th>4</th>\n",
              "      <td>5.0</td>\n",
              "      <td>3.6</td>\n",
              "      <td>1.4</td>\n",
              "      <td>0.2</td>\n",
              "      <td>setosa</td>\n",
              "    </tr>\n",
              "  </tbody>\n",
              "</table>\n",
              "</div>"
            ],
            "text/plain": [
              "   SepalLength  SepalWidth  PetalLength  PetalWidth Species\n",
              "0          5.1         3.5          1.4         0.2  setosa\n",
              "1          4.9         3.0          1.4         0.2  setosa\n",
              "2          4.7         3.2          1.3         0.2  setosa\n",
              "3          4.6         3.1          1.5         0.2  setosa\n",
              "4          5.0         3.6          1.4         0.2  setosa"
            ]
          },
          "execution_count": 42,
          "metadata": {},
          "output_type": "execute_result"
        }
      ],
      "source": [
        "#추후 anova 분석 시 column 이름에 있는 . 때문에 오류가 남. 수정 필요\n",
        "df.columns = ['SepalLength', 'SepalWidth', 'PetalLength', 'PetalWidth', 'Species']\n",
        "df.head()"
      ]
    },
    {
      "cell_type": "markdown",
      "metadata": {
        "id": "nHd-jzpHqe96"
      },
      "source": [
        "### Species별로 SepalWidth에 차이가 나는지를 일원분산분석을 통해 검정해보시오."
      ]
    },
    {
      "cell_type": "markdown",
      "metadata": {
        "id": "UXiKBPLSqe96"
      },
      "source": [
        "**Q1. 해당 검정에 따른 one-way anova 귀무가설과 대립가설을 서술하시오.**"
      ]
    },
    {
      "cell_type": "code",
      "execution_count": null,
      "metadata": {
        "id": "riF0qcriqe96"
      },
      "outputs": [],
      "source": [
        "# 귀무가설 : Species 간의 SepalWidth는 차이가 나지 않는다.\n",
        "# 대립가설 : 3개의 Species 중 하나의 그룹(2개의 종) 간이라도 SepalWidth의 차이가 있다."
      ]
    },
    {
      "cell_type": "markdown",
      "metadata": {
        "id": "x6FOAUFbqe96"
      },
      "source": [
        "**Q2. iris 데이터의 기술 통계량을 나타내시오.**"
      ]
    },
    {
      "cell_type": "code",
      "execution_count": null,
      "metadata": {
        "id": "CMMvn8g-qe96",
        "outputId": "14d07efb-5b2a-4244-a910-f02a1aca036e"
      },
      "outputs": [
        {
          "data": {
            "text/html": [
              "<div>\n",
              "<style scoped>\n",
              "    .dataframe tbody tr th:only-of-type {\n",
              "        vertical-align: middle;\n",
              "    }\n",
              "\n",
              "    .dataframe tbody tr th {\n",
              "        vertical-align: top;\n",
              "    }\n",
              "\n",
              "    .dataframe thead th {\n",
              "        text-align: right;\n",
              "    }\n",
              "</style>\n",
              "<table border=\"1\" class=\"dataframe\">\n",
              "  <thead>\n",
              "    <tr style=\"text-align: right;\">\n",
              "      <th></th>\n",
              "      <th>SepalLength</th>\n",
              "      <th>SepalWidth</th>\n",
              "      <th>PetalLength</th>\n",
              "      <th>PetalWidth</th>\n",
              "    </tr>\n",
              "  </thead>\n",
              "  <tbody>\n",
              "    <tr>\n",
              "      <th>count</th>\n",
              "      <td>150.000000</td>\n",
              "      <td>150.000000</td>\n",
              "      <td>150.000000</td>\n",
              "      <td>150.000000</td>\n",
              "    </tr>\n",
              "    <tr>\n",
              "      <th>mean</th>\n",
              "      <td>5.843333</td>\n",
              "      <td>3.057333</td>\n",
              "      <td>3.758000</td>\n",
              "      <td>1.199333</td>\n",
              "    </tr>\n",
              "    <tr>\n",
              "      <th>std</th>\n",
              "      <td>0.828066</td>\n",
              "      <td>0.435866</td>\n",
              "      <td>1.765298</td>\n",
              "      <td>0.762238</td>\n",
              "    </tr>\n",
              "    <tr>\n",
              "      <th>min</th>\n",
              "      <td>4.300000</td>\n",
              "      <td>2.000000</td>\n",
              "      <td>1.000000</td>\n",
              "      <td>0.100000</td>\n",
              "    </tr>\n",
              "    <tr>\n",
              "      <th>25%</th>\n",
              "      <td>5.100000</td>\n",
              "      <td>2.800000</td>\n",
              "      <td>1.600000</td>\n",
              "      <td>0.300000</td>\n",
              "    </tr>\n",
              "    <tr>\n",
              "      <th>50%</th>\n",
              "      <td>5.800000</td>\n",
              "      <td>3.000000</td>\n",
              "      <td>4.350000</td>\n",
              "      <td>1.300000</td>\n",
              "    </tr>\n",
              "    <tr>\n",
              "      <th>75%</th>\n",
              "      <td>6.400000</td>\n",
              "      <td>3.300000</td>\n",
              "      <td>5.100000</td>\n",
              "      <td>1.800000</td>\n",
              "    </tr>\n",
              "    <tr>\n",
              "      <th>max</th>\n",
              "      <td>7.900000</td>\n",
              "      <td>4.400000</td>\n",
              "      <td>6.900000</td>\n",
              "      <td>2.500000</td>\n",
              "    </tr>\n",
              "  </tbody>\n",
              "</table>\n",
              "</div>"
            ],
            "text/plain": [
              "       SepalLength  SepalWidth  PetalLength  PetalWidth\n",
              "count   150.000000  150.000000   150.000000  150.000000\n",
              "mean      5.843333    3.057333     3.758000    1.199333\n",
              "std       0.828066    0.435866     1.765298    0.762238\n",
              "min       4.300000    2.000000     1.000000    0.100000\n",
              "25%       5.100000    2.800000     1.600000    0.300000\n",
              "50%       5.800000    3.000000     4.350000    1.300000\n",
              "75%       6.400000    3.300000     5.100000    1.800000\n",
              "max       7.900000    4.400000     6.900000    2.500000"
            ]
          },
          "execution_count": 43,
          "metadata": {},
          "output_type": "execute_result"
        }
      ],
      "source": [
        "df.describe()"
      ]
    },
    {
      "cell_type": "markdown",
      "metadata": {
        "id": "Y-n5NH5dqe97"
      },
      "source": [
        "**Q3. species별로 sepal.Width에 대해 seaborn을 사용하여 boxplot을 그리시오.**"
      ]
    },
    {
      "cell_type": "code",
      "execution_count": null,
      "metadata": {
        "id": "gJ4iJGSMqe97",
        "outputId": "231944dc-82a5-4628-d77c-4478f5e4134b"
      },
      "outputs": [
        {
          "data": {
            "image/png": "[encoded data removed]",
            "text/plain": [
              "<Figure size 432x288 with 1 Axes>"
            ]
          },
          "metadata": {
            "needs_background": "light"
          },
          "output_type": "display_data"
        }
      ],
      "source": [
        "sns.boxplot(x='Species', y='SepalWidth', data=df)\n",
        "plt.show()"
      ]
    },
    {
      "cell_type": "markdown",
      "metadata": {
        "id": "QQO0gLdvqe97"
      },
      "source": [
        "**Q4. species마다의 히스토그램을 겹쳐 그리시오.**\n"
      ]
    },
    {
      "cell_type": "code",
      "execution_count": null,
      "metadata": {
        "id": "VC4tGqezqe97",
        "outputId": "c9a9aee2-caf4-488d-805f-8a4da2d0c112"
      },
      "outputs": [
        {
          "data": {
            "image/png": "[encoded data removed]",
            "text/plain": [
              "<Figure size 1152x432 with 1 Axes>"
            ]
          },
          "metadata": {
            "needs_background": "light"
          },
          "output_type": "display_data"
        }
      ],
      "source": [
        "plt.figure(figsize=(16,6))\n",
        "type1 = np.array(df[df['Species']=='setosa']['SepalWidth'])\n",
        "type2 = np.array(df[df['Species']=='versicolor']['SepalWidth'])\n",
        "type3 = np.array(df[df['Species']=='virginica']['SepalWidth'])\n",
        "\n",
        "ax1 = sns.distplot(type1, norm_hist=False, kde=False, label='setosa', color='blue')\n",
        "ax1 = sns.distplot(type2, norm_hist=False, kde=False, label='versicolor', color='orange')\n",
        "ax1 = sns.distplot(type3, norm_hist=False, kde=False, label='virginica', color='green')\n",
        "\n",
        "ax1.set(xlabel='SepalWidth')\n",
        "\n",
        "plt.legend()\n",
        "plt.show()"
      ]
    },
    {
      "cell_type": "markdown",
      "metadata": {
        "id": "DliUm_qmqe98"
      },
      "source": [
        "**Q5. statsmodel를 활용하여 one-way ANOVA를 실시한 후 검정 결과를 서술하시오.**  "
      ]
    },
    {
      "cell_type": "code",
      "execution_count": null,
      "metadata": {
        "id": "MBql15DXqe98",
        "outputId": "31a628c0-5aaa-452c-f994-2364b7097caf"
      },
      "outputs": [
        {
          "data": {
            "text/html": [
              "<div>\n",
              "<style scoped>\n",
              "    .dataframe tbody tr th:only-of-type {\n",
              "        vertical-align: middle;\n",
              "    }\n",
              "\n",
              "    .dataframe tbody tr th {\n",
              "        vertical-align: top;\n",
              "    }\n",
              "\n",
              "    .dataframe thead th {\n",
              "        text-align: right;\n",
              "    }\n",
              "</style>\n",
              "<table border=\"1\" class=\"dataframe\">\n",
              "  <thead>\n",
              "    <tr style=\"text-align: right;\">\n",
              "      <th></th>\n",
              "      <th>df</th>\n",
              "      <th>sum_sq</th>\n",
              "      <th>mean_sq</th>\n",
              "      <th>F</th>\n",
              "      <th>PR(&gt;F)</th>\n",
              "    </tr>\n",
              "  </thead>\n",
              "  <tbody>\n",
              "    <tr>\n",
              "      <th>C(Species)</th>\n",
              "      <td>2.0</td>\n",
              "      <td>11.344933</td>\n",
              "      <td>5.672467</td>\n",
              "      <td>49.16004</td>\n",
              "      <td>4.492017e-17</td>\n",
              "    </tr>\n",
              "    <tr>\n",
              "      <th>Residual</th>\n",
              "      <td>147.0</td>\n",
              "      <td>16.962000</td>\n",
              "      <td>0.115388</td>\n",
              "      <td>NaN</td>\n",
              "      <td>NaN</td>\n",
              "    </tr>\n",
              "  </tbody>\n",
              "</table>\n",
              "</div>"
            ],
            "text/plain": [
              "               df     sum_sq   mean_sq         F        PR(>F)\n",
              "C(Species)    2.0  11.344933  5.672467  49.16004  4.492017e-17\n",
              "Residual    147.0  16.962000  0.115388       NaN           NaN"
            ]
          },
          "execution_count": 46,
          "metadata": {},
          "output_type": "execute_result"
        }
      ],
      "source": [
        "# 답안1(쉬운 버전)\n",
        "fit = ols(formula='SepalWidth~C(Species)', data=df).fit()\n",
        "anova_lm(fit)\n",
        "# P-value가 0.05보다 작기 때문에 귀무가설을 기각한다."
      ]
    },
    {
      "cell_type": "code",
      "execution_count": null,
      "metadata": {
        "id": "kGNdmO7nqe98",
        "outputId": "c2994232-c756-4ab8-abd7-6ca649755de6"
      },
      "outputs": [
        {
          "data": {
            "text/html": [
              "<table class=\"simpletable\">\n",
              "<caption>OLS Regression Results</caption>\n",
              "<tr>\n",
              "  <th>Dep. Variable:</th>       <td>SepalWidth</td>    <th>  R-squared:         </th> <td>   0.401</td>\n",
              "</tr>\n",
              "<tr>\n",
              "  <th>Model:</th>                   <td>OLS</td>       <th>  Adj. R-squared:    </th> <td>   0.393</td>\n",
              "</tr>\n",
              "<tr>\n",
              "  <th>Method:</th>             <td>Least Squares</td>  <th>  F-statistic:       </th> <td>   49.16</td>\n",
              "</tr>\n",
              "<tr>\n",
              "  <th>Date:</th>             <td>Wed, 01 Mar 2023</td> <th>  Prob (F-statistic):</th> <td>4.49e-17</td>\n",
              "</tr>\n",
              "<tr>\n",
              "  <th>Time:</th>                 <td>22:38:04</td>     <th>  Log-Likelihood:    </th> <td> -49.366</td>\n",
              "</tr>\n",
              "<tr>\n",
              "  <th>No. Observations:</th>      <td>   150</td>      <th>  AIC:               </th> <td>   104.7</td>\n",
              "</tr>\n",
              "<tr>\n",
              "  <th>Df Residuals:</th>          <td>   147</td>      <th>  BIC:               </th> <td>   113.8</td>\n",
              "</tr>\n",
              "<tr>\n",
              "  <th>Df Model:</th>              <td>     2</td>      <th>                     </th>     <td> </td>   \n",
              "</tr>\n",
              "<tr>\n",
              "  <th>Covariance Type:</th>      <td>nonrobust</td>    <th>                     </th>     <td> </td>   \n",
              "</tr>\n",
              "</table>\n",
              "<table class=\"simpletable\">\n",
              "<tr>\n",
              "              <td></td>                <th>coef</th>     <th>std err</th>      <th>t</th>      <th>P>|t|</th>  <th>[0.025</th>    <th>0.975]</th>  \n",
              "</tr>\n",
              "<tr>\n",
              "  <th>Intercept</th>                <td>    3.4280</td> <td>    0.048</td> <td>   71.359</td> <td> 0.000</td> <td>    3.333</td> <td>    3.523</td>\n",
              "</tr>\n",
              "<tr>\n",
              "  <th>C(Species)[T.versicolor]</th> <td>   -0.6580</td> <td>    0.068</td> <td>   -9.685</td> <td> 0.000</td> <td>   -0.792</td> <td>   -0.524</td>\n",
              "</tr>\n",
              "<tr>\n",
              "  <th>C(Species)[T.virginica]</th>  <td>   -0.4540</td> <td>    0.068</td> <td>   -6.683</td> <td> 0.000</td> <td>   -0.588</td> <td>   -0.320</td>\n",
              "</tr>\n",
              "</table>\n",
              "<table class=\"simpletable\">\n",
              "<tr>\n",
              "  <th>Omnibus:</th>       <td> 1.920</td> <th>  Durbin-Watson:     </th> <td>   1.879</td>\n",
              "</tr>\n",
              "<tr>\n",
              "  <th>Prob(Omnibus):</th> <td> 0.383</td> <th>  Jarque-Bera (JB):  </th> <td>   1.632</td>\n",
              "</tr>\n",
              "<tr>\n",
              "  <th>Skew:</th>          <td> 0.027</td> <th>  Prob(JB):          </th> <td>   0.442</td>\n",
              "</tr>\n",
              "<tr>\n",
              "  <th>Kurtosis:</th>      <td> 3.508</td> <th>  Cond. No.          </th> <td>    3.73</td>\n",
              "</tr>\n",
              "</table><br/><br/>Notes:<br/>[1] Standard Errors assume that the covariance matrix of the errors is correctly specified."
            ],
            "text/plain": [
              "<class 'statsmodels.iolib.summary.Summary'>\n",
              "\"\"\"\n",
              "                            OLS Regression Results                            \n",
              "==============================================================================\n",
              "Dep. Variable:             SepalWidth   R-squared:                       0.401\n",
              "Model:                            OLS   Adj. R-squared:                  0.393\n",
              "Method:                 Least Squares   F-statistic:                     49.16\n",
              "Date:                Wed, 01 Mar 2023   Prob (F-statistic):           4.49e-17\n",
              "Time:                        22:38:04   Log-Likelihood:                -49.366\n",
              "No. Observations:                 150   AIC:                             104.7\n",
              "Df Residuals:                     147   BIC:                             113.8\n",
              "Df Model:                           2                                         \n",
              "Covariance Type:            nonrobust                                         \n",
              "============================================================================================\n",
              "                               coef    std err          t      P>|t|      [0.025      0.975]\n",
              "--------------------------------------------------------------------------------------------\n",
              "Intercept                    3.4280      0.048     71.359      0.000       3.333       3.523\n",
              "C(Species)[T.versicolor]    -0.6580      0.068     -9.685      0.000      -0.792      -0.524\n",
              "C(Species)[T.virginica]     -0.4540      0.068     -6.683      0.000      -0.588      -0.320\n",
              "==============================================================================\n",
              "Omnibus:                        1.920   Durbin-Watson:                   1.879\n",
              "Prob(Omnibus):                  0.383   Jarque-Bera (JB):                1.632\n",
              "Skew:                           0.027   Prob(JB):                        0.442\n",
              "Kurtosis:                       3.508   Cond. No.                         3.73\n",
              "==============================================================================\n",
              "\n",
              "Notes:\n",
              "[1] Standard Errors assume that the covariance matrix of the errors is correctly specified.\n",
              "\"\"\""
            ]
          },
          "execution_count": 47,
          "metadata": {},
          "output_type": "execute_result"
        }
      ],
      "source": [
        "# 답안2(모델 사용 버전)\n",
        "df_model = pd.DataFrame(df, columns=['SepalWidth', 'Species'])\n",
        "results = ols('SepalWidth~C(Species)', data=df_model).fit()\n",
        "results.summary()\n",
        "# P-value가 0.05보다 작기 때문에 귀무가설을 기각한다."
      ]
    },
    {
      "cell_type": "markdown",
      "metadata": {
        "id": "z48H4gmoqe99"
      },
      "source": [
        "**Q6. scipy 패키지를 활용해 최소 두가지 이상 방법으로 등분산 검정을 진행하시오.**"
      ]
    },
    {
      "cell_type": "code",
      "execution_count": null,
      "metadata": {
        "id": "1nknXX-Jqe99",
        "outputId": "1c850ff7-9e9c-485f-b79f-e77c32d6b956"
      },
      "outputs": [
        {
          "name": "stdout",
          "output_type": "stream",
          "text": [
            "levene result(F): 0.590 \n",
            " p-value: 0.556\n",
            "fligner result(F): 0.912 \n",
            " p-value: 0.634\n"
          ]
        }
      ],
      "source": [
        "# 등분산 검정 레빈(levene)\n",
        "levene = stats.levene(type1, type2, type3)\n",
        "print('levene result(F): %.3f \\n p-value: %.3f' %(levene))\n",
        "\n",
        "#등분산 검정 플리그너\n",
        "fligner = stats.fligner(type1, type2, type3)\n",
        "print('fligner result(F): %.3f \\n p-value: %.3f' %(fligner))\n",
        "# 답: 모두 유의수준(0.05) 이상이기 때문에 등분산 가정의 귀무가설은 기각되지 않는다."
      ]
    },
    {
      "cell_type": "markdown",
      "metadata": {
        "id": "87Q9wDnFqe99"
      },
      "source": [
        "**Q7. Tukey HSD로 사후분석을 진행하고 유의미한 차이가 나는 그룹이 무엇인지 서술하시오.**"
      ]
    },
    {
      "cell_type": "code",
      "execution_count": null,
      "metadata": {
        "id": "OCLBOIoHqe99",
        "outputId": "25832594-f8e5-4d79-e6b4-2438e357bde0"
      },
      "outputs": [
        {
          "data": {
            "text/html": [
              "<table class=\"simpletable\">\n",
              "<caption>Multiple Comparison of Means - Tukey HSD, FWER=0.05</caption>\n",
              "<tr>\n",
              "    <th>group1</th>     <th>group2</th>   <th>meandiff</th>  <th>p-adj</th>  <th>lower</th>   <th>upper</th>  <th>reject</th>\n",
              "</tr>\n",
              "<tr>\n",
              "    <td>setosa</td>   <td>versicolor</td>  <td>-0.658</td>   <td>0.001</td> <td>-0.8189</td> <td>-0.4971</td>  <td>True</td> \n",
              "</tr>\n",
              "<tr>\n",
              "    <td>setosa</td>    <td>virginica</td>  <td>-0.454</td>   <td>0.001</td> <td>-0.6149</td> <td>-0.2931</td>  <td>True</td> \n",
              "</tr>\n",
              "<tr>\n",
              "  <td>versicolor</td>  <td>virginica</td>   <td>0.204</td>  <td>0.0088</td> <td>0.0431</td>  <td>0.3649</td>   <td>True</td> \n",
              "</tr>\n",
              "</table>"
            ],
            "text/plain": [
              "<class 'statsmodels.iolib.table.SimpleTable'>"
            ]
          },
          "execution_count": 49,
          "metadata": {},
          "output_type": "execute_result"
        }
      ],
      "source": [
        "from statsmodels.stats.multicomp import pairwise_tukeyhsd\n",
        "tukeyhsd = pairwise_tukeyhsd(df['SepalWidth'], df['Species'], alpha=0.05)\n",
        "tukeyhsd.summary()\n",
        "\n",
        "# 답: 모든 그룹 간에 유의미한 차이를 보인다."
      ]
    }
  ],
  "metadata": {
    "colab": {
      "collapsed_sections": [
        "efSA9q24QFoI"
      ],
      "provenance": []
    },
    "kernelspec": {
      "display_name": "Python 3 (ipykernel)",
      "language": "python",
      "name": "python3"
    },
    "language_info": {
      "codemirror_mode": {
        "name": "ipython",
        "version": 3
      },
      "file_extension": ".py",
      "mimetype": "text/x-python",
      "name": "python",
      "nbconvert_exporter": "python",
      "pygments_lexer": "ipython3",
      "version": "3.9.7"
    }
  },
  "nbformat": 4,
  "nbformat_minor": 0
}